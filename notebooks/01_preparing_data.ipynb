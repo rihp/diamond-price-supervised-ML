{
 "cells": [
  {
   "cell_type": "markdown",
   "metadata": {},
   "source": [
    "# Config."
   ]
  },
  {
   "cell_type": "markdown",
   "metadata": {},
   "source": [
    "### Import Modules"
   ]
  },
  {
   "cell_type": "code",
   "execution_count": 1,
   "metadata": {},
   "outputs": [],
   "source": [
    "import pandas as pd\n",
    "import numpy as np\n",
    "import seaborn as sns\n",
    "import matplotlib.pyplot as plt\n",
    "\n",
    "# My modules\n",
    "import sys\n",
    "sys.path.append('../')\n",
    "from src import datahandler"
   ]
  },
  {
   "cell_type": "markdown",
   "metadata": {},
   "source": [
    "### Configure `PATH` for `LOCAL JUPYTER` or `Google Colab`"
   ]
  },
  {
   "cell_type": "code",
   "execution_count": 2,
   "metadata": {},
   "outputs": [],
   "source": [
    "ENV = 'local'\n",
    "\n",
    "if ENV =='google':\n",
    "    # Google Colab Setup\n",
    "    from os.path import join\n",
    "    from google.colab import drive\n",
    "    from google.colab import output\n",
    "\n",
    "    ROOT = \"/content/drive\"\n",
    "    drive.mount(ROOT)\n",
    "\n",
    "    PATH = \"drive/My Drive/data/\"\n",
    "\n",
    "    # Play a sound when training is finished\n",
    "    def makesound():\n",
    "        output.eval_js('new Audio(\"https://upload.wikimedia.org/wikipedia/commons/3/34/Sound_Effect_-_Door_Bell.ogg\").play()')\n",
    "        \n",
    "elif ENV == 'local':\n",
    "    # Local Jupyter Setup\n",
    "    PATH='../'"
   ]
  },
  {
   "cell_type": "markdown",
   "metadata": {},
   "source": [
    "# Load Training Dataset as `raw_data_train`"
   ]
  },
  {
   "cell_type": "code",
   "execution_count": 3,
   "metadata": {
    "scrolled": false
   },
   "outputs": [
    {
     "data": {
      "text/html": [
       "<div>\n",
       "<style scoped>\n",
       "    .dataframe tbody tr th:only-of-type {\n",
       "        vertical-align: middle;\n",
       "    }\n",
       "\n",
       "    .dataframe tbody tr th {\n",
       "        vertical-align: top;\n",
       "    }\n",
       "\n",
       "    .dataframe thead th {\n",
       "        text-align: right;\n",
       "    }\n",
       "</style>\n",
       "<table border=\"1\" class=\"dataframe\">\n",
       "  <thead>\n",
       "    <tr style=\"text-align: right;\">\n",
       "      <th></th>\n",
       "      <th>carat</th>\n",
       "      <th>cut</th>\n",
       "      <th>color</th>\n",
       "      <th>clarity</th>\n",
       "      <th>depth</th>\n",
       "      <th>table</th>\n",
       "      <th>x</th>\n",
       "      <th>y</th>\n",
       "      <th>z</th>\n",
       "      <th>price</th>\n",
       "    </tr>\n",
       "  </thead>\n",
       "  <tbody>\n",
       "    <tr>\n",
       "      <th>40340</th>\n",
       "      <td>1.55</td>\n",
       "      <td>Premium</td>\n",
       "      <td>H</td>\n",
       "      <td>VS2</td>\n",
       "      <td>61.3</td>\n",
       "      <td>61.0</td>\n",
       "      <td>7.46</td>\n",
       "      <td>7.39</td>\n",
       "      <td>4.55</td>\n",
       "      <td>11708</td>\n",
       "    </tr>\n",
       "    <tr>\n",
       "      <th>40341</th>\n",
       "      <td>0.36</td>\n",
       "      <td>Ideal</td>\n",
       "      <td>D</td>\n",
       "      <td>SI1</td>\n",
       "      <td>60.6</td>\n",
       "      <td>56.0</td>\n",
       "      <td>4.58</td>\n",
       "      <td>4.63</td>\n",
       "      <td>2.79</td>\n",
       "      <td>619</td>\n",
       "    </tr>\n",
       "    <tr>\n",
       "      <th>40342</th>\n",
       "      <td>0.57</td>\n",
       "      <td>Very Good</td>\n",
       "      <td>I</td>\n",
       "      <td>VS2</td>\n",
       "      <td>62.2</td>\n",
       "      <td>55.0</td>\n",
       "      <td>5.33</td>\n",
       "      <td>5.34</td>\n",
       "      <td>3.32</td>\n",
       "      <td>1267</td>\n",
       "    </tr>\n",
       "    <tr>\n",
       "      <th>40343</th>\n",
       "      <td>1.01</td>\n",
       "      <td>Very Good</td>\n",
       "      <td>F</td>\n",
       "      <td>IF</td>\n",
       "      <td>59.6</td>\n",
       "      <td>62.0</td>\n",
       "      <td>6.47</td>\n",
       "      <td>6.56</td>\n",
       "      <td>3.88</td>\n",
       "      <td>9965</td>\n",
       "    </tr>\n",
       "    <tr>\n",
       "      <th>40344</th>\n",
       "      <td>0.54</td>\n",
       "      <td>Ideal</td>\n",
       "      <td>E</td>\n",
       "      <td>SI2</td>\n",
       "      <td>60.4</td>\n",
       "      <td>57.0</td>\n",
       "      <td>5.33</td>\n",
       "      <td>5.27</td>\n",
       "      <td>3.20</td>\n",
       "      <td>1340</td>\n",
       "    </tr>\n",
       "  </tbody>\n",
       "</table>\n",
       "</div>"
      ],
      "text/plain": [
       "       carat        cut color clarity  depth  table     x     y     z  price\n",
       "40340   1.55    Premium     H     VS2   61.3   61.0  7.46  7.39  4.55  11708\n",
       "40341   0.36      Ideal     D     SI1   60.6   56.0  4.58  4.63  2.79    619\n",
       "40342   0.57  Very Good     I     VS2   62.2   55.0  5.33  5.34  3.32   1267\n",
       "40343   1.01  Very Good     F      IF   59.6   62.0  6.47  6.56  3.88   9965\n",
       "40344   0.54      Ideal     E     SI2   60.4   57.0  5.33  5.27  3.20   1340"
      ]
     },
     "execution_count": 3,
     "metadata": {},
     "output_type": "execute_result"
    }
   ],
   "source": [
    "raw_data_train = pd.read_csv(f'{PATH}INPUT/diamonds_train.csv').drop(columns='Unnamed: 0')\n",
    "raw_data_train.tail()"
   ]
  },
  {
   "cell_type": "markdown",
   "metadata": {},
   "source": [
    "## Exploring the features"
   ]
  },
  {
   "cell_type": "markdown",
   "metadata": {},
   "source": [
    "###### `dtypes`"
   ]
  },
  {
   "cell_type": "code",
   "execution_count": 4,
   "metadata": {},
   "outputs": [
    {
     "data": {
      "text/plain": [
       "carat      float64\n",
       "cut         object\n",
       "color       object\n",
       "clarity     object\n",
       "depth      float64\n",
       "table      float64\n",
       "x          float64\n",
       "y          float64\n",
       "z          float64\n",
       "price        int64\n",
       "dtype: object"
      ]
     },
     "execution_count": 4,
     "metadata": {},
     "output_type": "execute_result"
    }
   ],
   "source": [
    "raw_data_train.dtypes"
   ]
  },
  {
   "cell_type": "markdown",
   "metadata": {},
   "source": [
    "### `x`, `y`, `z`\n",
    "**Watch out** with the `x, y and z` columns which may counfuse our model for having  values == 0 \n",
    "\n",
    "    LOS DIAMANTES REDONDOS SUELEN TENER UN MEJOR PRECIO QUE LOS DIAMANTES OVALES\n"
   ]
  },
  {
   "cell_type": "code",
   "execution_count": 5,
   "metadata": {
    "scrolled": true
   },
   "outputs": [
    {
     "data": {
      "text/plain": [
       "carat       0\n",
       "cut         0\n",
       "color       0\n",
       "clarity     0\n",
       "depth       0\n",
       "table       0\n",
       "x           7\n",
       "y           6\n",
       "z          17\n",
       "price       0\n",
       "dtype: int64"
      ]
     },
     "execution_count": 5,
     "metadata": {},
     "output_type": "execute_result"
    }
   ],
   "source": [
    "(raw_data_train == 0).sum()"
   ]
  },
  {
   "cell_type": "markdown",
   "metadata": {},
   "source": [
    "    \"\"\"\n",
    "    Although this dataset has no null values, there are dimentional features with values == 0, so we have two options, to take those rows out to train our model, or to eliminate the features completely.\n",
    "    \"\"\""
   ]
  },
  {
   "cell_type": "markdown",
   "metadata": {},
   "source": [
    "### `depth` \n",
    "This ratio is crucial to understand how much light the diamond can refract"
   ]
  },
  {
   "cell_type": "code",
   "execution_count": 6,
   "metadata": {
    "scrolled": true
   },
   "outputs": [
    {
     "data": {
      "text/plain": [
       "count    40345.000000\n",
       "mean        61.750413\n",
       "std          1.424219\n",
       "min         43.000000\n",
       "25%         61.000000\n",
       "50%         61.800000\n",
       "75%         62.500000\n",
       "max         79.000000\n",
       "Name: depth, dtype: float64"
      ]
     },
     "execution_count": 6,
     "metadata": {},
     "output_type": "execute_result"
    }
   ],
   "source": [
    "raw_data_train.depth.describe()"
   ]
  },
  {
   "cell_type": "markdown",
   "metadata": {},
   "source": [
    "### `cut` \n",
    "This is feature is not clearly defined yet. It appears to be subjective."
   ]
  },
  {
   "cell_type": "code",
   "execution_count": 7,
   "metadata": {},
   "outputs": [
    {
     "data": {
      "text/plain": [
       "Ideal        16090\n",
       "Premium      10339\n",
       "Very Good     9036\n",
       "Good          3694\n",
       "Fair          1186\n",
       "Name: cut, dtype: int64"
      ]
     },
     "execution_count": 7,
     "metadata": {},
     "output_type": "execute_result"
    }
   ],
   "source": [
    "# Diamond Cut\n",
    "raw_data_train.cut.value_counts()"
   ]
  },
  {
   "cell_type": "markdown",
   "metadata": {},
   "source": [
    "### `color` \n",
    "D is the best color, and J is the worst color"
   ]
  },
  {
   "cell_type": "code",
   "execution_count": 8,
   "metadata": {},
   "outputs": [
    {
     "data": {
      "text/plain": [
       "G    8499\n",
       "E    7351\n",
       "F    7130\n",
       "H    6234\n",
       "D    5074\n",
       "I    4023\n",
       "J    2034\n",
       "Name: color, dtype: int64"
      ]
     },
     "execution_count": 8,
     "metadata": {},
     "output_type": "execute_result"
    }
   ],
   "source": [
    "# Diamond Color {\"DEF\" \"GHIJ\"}\n",
    "raw_data_train.color.value_counts()"
   ]
  },
  {
   "cell_type": "markdown",
   "metadata": {},
   "source": [
    "### `clarity` \n",
    "This follows the [GIA Clarity Scale](https://4cs.gia.edu/en-us/diamond-cut/)\n",
    "\n",
    "[more info](https://4cs.gia.edu/en-us/diamond-clarity/)"
   ]
  },
  {
   "cell_type": "code",
   "execution_count": 9,
   "metadata": {
    "scrolled": true
   },
   "outputs": [
    {
     "data": {
      "text/plain": [
       "SI1     9751\n",
       "VS2     9178\n",
       "SI2     6828\n",
       "VS1     6101\n",
       "VVS2    3858\n",
       "VVS1    2714\n",
       "IF      1362\n",
       "I1       553\n",
       "Name: clarity, dtype: int64"
      ]
     },
     "execution_count": 9,
     "metadata": {},
     "output_type": "execute_result"
    }
   ],
   "source": [
    "# Diamond Clarity\n",
    "raw_data_train.clarity.value_counts()"
   ]
  },
  {
   "cell_type": "markdown",
   "metadata": {},
   "source": [
    "### `carat`\n",
    "The weight of the diamond. `1 carat == 0.2 grams`"
   ]
  },
  {
   "cell_type": "code",
   "execution_count": 10,
   "metadata": {},
   "outputs": [
    {
     "data": {
      "text/plain": [
       "count    40345.000000\n",
       "mean         0.795652\n",
       "std          0.470806\n",
       "min          0.200000\n",
       "25%          0.400000\n",
       "50%          0.700000\n",
       "75%          1.040000\n",
       "max          4.010000\n",
       "Name: carat, dtype: float64"
      ]
     },
     "execution_count": 10,
     "metadata": {},
     "output_type": "execute_result"
    }
   ],
   "source": [
    "raw_data_train.carat.describe()"
   ]
  },
  {
   "cell_type": "markdown",
   "metadata": {},
   "source": [
    "### `PRICE` == `label` ==  `y`"
   ]
  },
  {
   "cell_type": "code",
   "execution_count": 11,
   "metadata": {},
   "outputs": [
    {
     "data": {
      "text/plain": [
       "625    99\n",
       "789    96\n",
       "605    95\n",
       "776    94\n",
       "596    93\n",
       "Name: price, dtype: int64"
      ]
     },
     "execution_count": 11,
     "metadata": {},
     "output_type": "execute_result"
    }
   ],
   "source": [
    "# LABEL: Diamond Price\n",
    "raw_data_train.price.value_counts().head()"
   ]
  },
  {
   "cell_type": "code",
   "execution_count": 12,
   "metadata": {
    "scrolled": true
   },
   "outputs": [
    {
     "data": {
      "text/plain": [
       "<matplotlib.axes._subplots.AxesSubplot at 0x7f91997327f0>"
      ]
     },
     "execution_count": 12,
     "metadata": {},
     "output_type": "execute_result"
    },
    {
     "data": {
      "image/png": "[encoded data removed]",
      "text/plain": [
       "<Figure size 1440x216 with 1 Axes>"
      ]
     },
     "metadata": {
      "needs_background": "light"
     },
     "output_type": "display_data"
    }
   ],
   "source": [
    "plt.figure(figsize=(20,3))\n",
    "sns.distplot(raw_data_train.price)"
   ]
  },
  {
   "cell_type": "markdown",
   "metadata": {},
   "source": [
    "## Notes from a basic investigation:"
   ]
  },
  {
   "cell_type": "markdown",
   "metadata": {},
   "source": [
    " - This problem involves the prediction of a price. This implies we are handling a continuous and infinite range of values.\n",
    "\n",
    " - The objective is to generate predictions with a low Root Mean Squared Error (RMSE)\n",
    "\n",
    "\n",
    "\"\"\"\n",
    "- The dataset contains no null values. It is composed of 8 coninuous variables and 3 categorical values.\n",
    "\"\"\"\n",
    "\n",
    "\n",
    "\"\"\"\n",
    "- After interviewing a Diamond seller, they have reinforced the use of 4 main features `The Four C's`, which are CUT, CARAT, CLARITY, and COLOR, when calculating the price of a diamond... If these features are all \"positive\", and have \"balanced values\", (ie: all rounded to a good average), the diamond will sell with a very high price.\n",
    "\"\"\"\n",
    "\n",
    "\"\"\"\n",
    " - By looking at the distribution of the `prices`, we can see that the diamonds are more frequently under price of `5000`. Although the maximum price registered is around `20000`, giving this data to our model could actually make it less precise.\n",
    "\"\"\"\n",
    "\n",
    "\"\"\"\n",
    " - Existe una publicación periodica que indica los precios de venta de los diamantes, considerando el precio/kilate, dadas ciertas características. Buscar: `diamond rappaport`, para identificar como agrupan los diferentes rangos de kilates.\n",
    "\"\"\""
   ]
  },
  {
   "cell_type": "markdown",
   "metadata": {},
   "source": [
    "# Data States\n",
    "\n",
    "We'll make a dictionary with the different `states` of the data, and we will be updating this dictionary as we create new `data_states`, in order to use them easily with our models. At the end of this notebook, we will be exporting all of out data states to separate csv files\n",
    "\n",
    "- Proposed Data States:\n",
    "    - `raw`: The raw data, without any modifications.\n",
    "    - `max_price`: Raw data, but dropping all rows with a price that goes over a defined `max_price`. It includes categorical and continuous features.\n",
    "    - `numerical_features`: Turn the categorical (object) dtypes into numerics. (using one-hot encoding or label encoding)\n",
    "    - `continuous_features`: Discarding all categorical features.\n",
    "    - `FourCs`: Only include the 4 main features described by the diamond seller.\n",
    "    "
   ]
  },
  {
   "cell_type": "code",
   "execution_count": 13,
   "metadata": {},
   "outputs": [],
   "source": [
    "# Create our dictionary\n",
    "data_input_states = {}"
   ]
  },
  {
   "cell_type": "markdown",
   "metadata": {},
   "source": [
    "### `data_input_states['raw']`"
   ]
  },
  {
   "cell_type": "code",
   "execution_count": 14,
   "metadata": {},
   "outputs": [
    {
     "data": {
      "text/html": [
       "<div>\n",
       "<style scoped>\n",
       "    .dataframe tbody tr th:only-of-type {\n",
       "        vertical-align: middle;\n",
       "    }\n",
       "\n",
       "    .dataframe tbody tr th {\n",
       "        vertical-align: top;\n",
       "    }\n",
       "\n",
       "    .dataframe thead th {\n",
       "        text-align: right;\n",
       "    }\n",
       "</style>\n",
       "<table border=\"1\" class=\"dataframe\">\n",
       "  <thead>\n",
       "    <tr style=\"text-align: right;\">\n",
       "      <th></th>\n",
       "      <th>carat</th>\n",
       "      <th>cut</th>\n",
       "      <th>color</th>\n",
       "      <th>clarity</th>\n",
       "      <th>depth</th>\n",
       "      <th>table</th>\n",
       "      <th>x</th>\n",
       "      <th>y</th>\n",
       "      <th>z</th>\n",
       "      <th>price</th>\n",
       "    </tr>\n",
       "  </thead>\n",
       "  <tbody>\n",
       "    <tr>\n",
       "      <th>0</th>\n",
       "      <td>1.21</td>\n",
       "      <td>Ideal</td>\n",
       "      <td>H</td>\n",
       "      <td>VS2</td>\n",
       "      <td>63.0</td>\n",
       "      <td>57.0</td>\n",
       "      <td>6.73</td>\n",
       "      <td>6.70</td>\n",
       "      <td>4.23</td>\n",
       "      <td>6134</td>\n",
       "    </tr>\n",
       "    <tr>\n",
       "      <th>1</th>\n",
       "      <td>0.28</td>\n",
       "      <td>Very Good</td>\n",
       "      <td>D</td>\n",
       "      <td>VVS2</td>\n",
       "      <td>64.0</td>\n",
       "      <td>56.0</td>\n",
       "      <td>4.14</td>\n",
       "      <td>4.17</td>\n",
       "      <td>2.66</td>\n",
       "      <td>532</td>\n",
       "    </tr>\n",
       "    <tr>\n",
       "      <th>2</th>\n",
       "      <td>0.42</td>\n",
       "      <td>Premium</td>\n",
       "      <td>F</td>\n",
       "      <td>VS1</td>\n",
       "      <td>61.2</td>\n",
       "      <td>58.0</td>\n",
       "      <td>4.86</td>\n",
       "      <td>4.82</td>\n",
       "      <td>2.96</td>\n",
       "      <td>1103</td>\n",
       "    </tr>\n",
       "  </tbody>\n",
       "</table>\n",
       "</div>"
      ],
      "text/plain": [
       "   carat        cut color clarity  depth  table     x     y     z  price\n",
       "0   1.21      Ideal     H     VS2   63.0   57.0  6.73  6.70  4.23   6134\n",
       "1   0.28  Very Good     D    VVS2   64.0   56.0  4.14  4.17  2.66    532\n",
       "2   0.42    Premium     F     VS1   61.2   58.0  4.86  4.82  2.96   1103"
      ]
     },
     "execution_count": 14,
     "metadata": {},
     "output_type": "execute_result"
    }
   ],
   "source": [
    "data_input_states.update({'raw':raw_data_train})\n",
    "data_input_states['raw'].head(3)"
   ]
  },
  {
   "cell_type": "markdown",
   "metadata": {},
   "source": [
    "### `data_input_states['max_price']`"
   ]
  },
  {
   "cell_type": "code",
   "execution_count": 15,
   "metadata": {},
   "outputs": [
    {
     "data": {
      "text/html": [
       "<div>\n",
       "<style scoped>\n",
       "    .dataframe tbody tr th:only-of-type {\n",
       "        vertical-align: middle;\n",
       "    }\n",
       "\n",
       "    .dataframe tbody tr th {\n",
       "        vertical-align: top;\n",
       "    }\n",
       "\n",
       "    .dataframe thead th {\n",
       "        text-align: right;\n",
       "    }\n",
       "</style>\n",
       "<table border=\"1\" class=\"dataframe\">\n",
       "  <thead>\n",
       "    <tr style=\"text-align: right;\">\n",
       "      <th></th>\n",
       "      <th>carat</th>\n",
       "      <th>cut</th>\n",
       "      <th>color</th>\n",
       "      <th>clarity</th>\n",
       "      <th>depth</th>\n",
       "      <th>table</th>\n",
       "      <th>x</th>\n",
       "      <th>y</th>\n",
       "      <th>z</th>\n",
       "      <th>price</th>\n",
       "    </tr>\n",
       "  </thead>\n",
       "  <tbody>\n",
       "    <tr>\n",
       "      <th>0</th>\n",
       "      <td>1.21</td>\n",
       "      <td>Ideal</td>\n",
       "      <td>H</td>\n",
       "      <td>VS2</td>\n",
       "      <td>63.0</td>\n",
       "      <td>57.0</td>\n",
       "      <td>6.73</td>\n",
       "      <td>6.70</td>\n",
       "      <td>4.23</td>\n",
       "      <td>6134</td>\n",
       "    </tr>\n",
       "    <tr>\n",
       "      <th>1</th>\n",
       "      <td>0.28</td>\n",
       "      <td>Very Good</td>\n",
       "      <td>D</td>\n",
       "      <td>VVS2</td>\n",
       "      <td>64.0</td>\n",
       "      <td>56.0</td>\n",
       "      <td>4.14</td>\n",
       "      <td>4.17</td>\n",
       "      <td>2.66</td>\n",
       "      <td>532</td>\n",
       "    </tr>\n",
       "    <tr>\n",
       "      <th>2</th>\n",
       "      <td>0.42</td>\n",
       "      <td>Premium</td>\n",
       "      <td>F</td>\n",
       "      <td>VS1</td>\n",
       "      <td>61.2</td>\n",
       "      <td>58.0</td>\n",
       "      <td>4.86</td>\n",
       "      <td>4.82</td>\n",
       "      <td>2.96</td>\n",
       "      <td>1103</td>\n",
       "    </tr>\n",
       "  </tbody>\n",
       "</table>\n",
       "</div>"
      ],
      "text/plain": [
       "   carat        cut color clarity  depth  table     x     y     z  price\n",
       "0   1.21      Ideal     H     VS2   63.0   57.0  6.73  6.70  4.23   6134\n",
       "1   0.28  Very Good     D    VVS2   64.0   56.0  4.14  4.17  2.66    532\n",
       "2   0.42    Premium     F     VS1   61.2   58.0  4.86  4.82  2.96   1103"
      ]
     },
     "execution_count": 15,
     "metadata": {},
     "output_type": "execute_result"
    }
   ],
   "source": [
    "# Define our filter\n",
    "max_price = 18000\n",
    "\n",
    "# Making a subset of data with fewer outliers\n",
    "data = data_input_states['raw'].copy()\n",
    "data = data[data.price < max_price]\n",
    "data.price.describe()\n",
    "\n",
    "data_input_states.update({'max_price':data})\n",
    "data_input_states['max_price'].head(3)"
   ]
  },
  {
   "cell_type": "markdown",
   "metadata": {},
   "source": [
    "### `data_input_states['numerical_features']`\n",
    "\n",
    "\n",
    "In this case, it would be good to look deeper into how much difference is there between all the GIA `clarity` categories, as they might not follow a linear scale."
   ]
  },
  {
   "cell_type": "code",
   "execution_count": 16,
   "metadata": {},
   "outputs": [
    {
     "data": {
      "text/html": [
       "<div>\n",
       "<style scoped>\n",
       "    .dataframe tbody tr th:only-of-type {\n",
       "        vertical-align: middle;\n",
       "    }\n",
       "\n",
       "    .dataframe tbody tr th {\n",
       "        vertical-align: top;\n",
       "    }\n",
       "\n",
       "    .dataframe thead th {\n",
       "        text-align: right;\n",
       "    }\n",
       "</style>\n",
       "<table border=\"1\" class=\"dataframe\">\n",
       "  <thead>\n",
       "    <tr style=\"text-align: right;\">\n",
       "      <th></th>\n",
       "      <th>carat</th>\n",
       "      <th>cut</th>\n",
       "      <th>color</th>\n",
       "      <th>clarity</th>\n",
       "      <th>depth</th>\n",
       "      <th>table</th>\n",
       "      <th>x</th>\n",
       "      <th>y</th>\n",
       "      <th>z</th>\n",
       "      <th>price</th>\n",
       "    </tr>\n",
       "  </thead>\n",
       "  <tbody>\n",
       "    <tr>\n",
       "      <th>0</th>\n",
       "      <td>1.21</td>\n",
       "      <td>0</td>\n",
       "      <td>4</td>\n",
       "      <td>3.6</td>\n",
       "      <td>63.0</td>\n",
       "      <td>57.0</td>\n",
       "      <td>6.73</td>\n",
       "      <td>6.70</td>\n",
       "      <td>4.23</td>\n",
       "      <td>6134</td>\n",
       "    </tr>\n",
       "    <tr>\n",
       "      <th>1</th>\n",
       "      <td>0.28</td>\n",
       "      <td>2</td>\n",
       "      <td>0</td>\n",
       "      <td>2.5</td>\n",
       "      <td>64.0</td>\n",
       "      <td>56.0</td>\n",
       "      <td>4.14</td>\n",
       "      <td>4.17</td>\n",
       "      <td>2.66</td>\n",
       "      <td>532</td>\n",
       "    </tr>\n",
       "    <tr>\n",
       "      <th>2</th>\n",
       "      <td>0.42</td>\n",
       "      <td>1</td>\n",
       "      <td>2</td>\n",
       "      <td>3.1</td>\n",
       "      <td>61.2</td>\n",
       "      <td>58.0</td>\n",
       "      <td>4.86</td>\n",
       "      <td>4.82</td>\n",
       "      <td>2.96</td>\n",
       "      <td>1103</td>\n",
       "    </tr>\n",
       "  </tbody>\n",
       "</table>\n",
       "</div>"
      ],
      "text/plain": [
       "   carat  cut  color  clarity  depth  table     x     y     z  price\n",
       "0   1.21    0      4      3.6   63.0   57.0  6.73  6.70  4.23   6134\n",
       "1   0.28    2      0      2.5   64.0   56.0  4.14  4.17  2.66    532\n",
       "2   0.42    1      2      3.1   61.2   58.0  4.86  4.82  2.96   1103"
      ]
     },
     "execution_count": 16,
     "metadata": {},
     "output_type": "execute_result"
    }
   ],
   "source": [
    "data = data_input_states['raw'].copy()\n",
    "data = datahandler.use_my_numeric_scales(data)\n",
    "data_input_states.update({'numerical_features':data}) # Add my new data to the data dictionary\n",
    "data.head(3)"
   ]
  },
  {
   "cell_type": "markdown",
   "metadata": {},
   "source": [
    "### `data_input_states['numerical_features_lt10k']`\n",
    "same as above but with diamonds under 10.000"
   ]
  },
  {
   "cell_type": "code",
   "execution_count": 17,
   "metadata": {},
   "outputs": [
    {
     "data": {
      "text/html": [
       "<div>\n",
       "<style scoped>\n",
       "    .dataframe tbody tr th:only-of-type {\n",
       "        vertical-align: middle;\n",
       "    }\n",
       "\n",
       "    .dataframe tbody tr th {\n",
       "        vertical-align: top;\n",
       "    }\n",
       "\n",
       "    .dataframe thead th {\n",
       "        text-align: right;\n",
       "    }\n",
       "</style>\n",
       "<table border=\"1\" class=\"dataframe\">\n",
       "  <thead>\n",
       "    <tr style=\"text-align: right;\">\n",
       "      <th></th>\n",
       "      <th>carat</th>\n",
       "      <th>cut</th>\n",
       "      <th>color</th>\n",
       "      <th>clarity</th>\n",
       "      <th>depth</th>\n",
       "      <th>table</th>\n",
       "      <th>x</th>\n",
       "      <th>y</th>\n",
       "      <th>z</th>\n",
       "      <th>price</th>\n",
       "    </tr>\n",
       "  </thead>\n",
       "  <tbody>\n",
       "    <tr>\n",
       "      <th>0</th>\n",
       "      <td>1.21</td>\n",
       "      <td>0</td>\n",
       "      <td>4</td>\n",
       "      <td>3.6</td>\n",
       "      <td>63.0</td>\n",
       "      <td>57.0</td>\n",
       "      <td>6.73</td>\n",
       "      <td>6.70</td>\n",
       "      <td>4.23</td>\n",
       "      <td>6134</td>\n",
       "    </tr>\n",
       "    <tr>\n",
       "      <th>1</th>\n",
       "      <td>0.28</td>\n",
       "      <td>2</td>\n",
       "      <td>0</td>\n",
       "      <td>2.5</td>\n",
       "      <td>64.0</td>\n",
       "      <td>56.0</td>\n",
       "      <td>4.14</td>\n",
       "      <td>4.17</td>\n",
       "      <td>2.66</td>\n",
       "      <td>532</td>\n",
       "    </tr>\n",
       "    <tr>\n",
       "      <th>2</th>\n",
       "      <td>0.42</td>\n",
       "      <td>1</td>\n",
       "      <td>2</td>\n",
       "      <td>3.1</td>\n",
       "      <td>61.2</td>\n",
       "      <td>58.0</td>\n",
       "      <td>4.86</td>\n",
       "      <td>4.82</td>\n",
       "      <td>2.96</td>\n",
       "      <td>1103</td>\n",
       "    </tr>\n",
       "  </tbody>\n",
       "</table>\n",
       "</div>"
      ],
      "text/plain": [
       "   carat  cut  color  clarity  depth  table     x     y     z  price\n",
       "0   1.21    0      4      3.6   63.0   57.0  6.73  6.70  4.23   6134\n",
       "1   0.28    2      0      2.5   64.0   56.0  4.14  4.17  2.66    532\n",
       "2   0.42    1      2      3.1   61.2   58.0  4.86  4.82  2.96   1103"
      ]
     },
     "execution_count": 17,
     "metadata": {},
     "output_type": "execute_result"
    }
   ],
   "source": [
    "data = data_input_states['raw'].copy()\n",
    "data = datahandler.use_my_numeric_scales(data)\n",
    "data = data[data.price < 10000].copy()\n",
    "data_input_states.update({'numerical_features_lt10k':data})\n",
    "data_input_states['numerical_features_lt10k'].head(3)"
   ]
  },
  {
   "cell_type": "markdown",
   "metadata": {},
   "source": [
    "### `data_input_states['numerical_features_qualify_depth']`\n",
    "\n",
    "We will take or `numerical_features` data_input_state, and enrich it by creating a new column with the depth qualification.\n",
    "\n",
    "This data state includes all prices, but uses binned depth ratios."
   ]
  },
  {
   "cell_type": "markdown",
   "metadata": {},
   "source": [
    "    \"\"\"\n",
    "    Posible interpretations of depth to take into account:\n",
    "    \n",
    "    Si el depth es mayor al 60% de profundidad, es bueno para el precio\n",
    "\n",
    "    sin embargo ente 55 y 60% para estar bien proporcionado pero no es el unico factor para evaluar el precio.    \n",
    "    \"\"\""
   ]
  },
  {
   "cell_type": "code",
   "execution_count": 18,
   "metadata": {},
   "outputs": [],
   "source": [
    "data = data_input_states['numerical_features'].copy()\n",
    "data['depth_categories'] = data.depth\n",
    "data['depth_categories'] = data.depth_categories.apply(datahandler.depth_qualifyer)"
   ]
  },
  {
   "cell_type": "code",
   "execution_count": 19,
   "metadata": {},
   "outputs": [],
   "source": [
    "data_input_states.update({'numerical_features_qualify_depth':data})"
   ]
  },
  {
   "cell_type": "code",
   "execution_count": 29,
   "metadata": {
    "scrolled": true
   },
   "outputs": [
    {
     "data": {
      "text/plain": [
       "Text(0.5, 1.0, 'Depth Ratio vs Our defined Depth Categories\\n (the lower the category, the lower the error)')"
      ]
     },
     "execution_count": 29,
     "metadata": {},
     "output_type": "execute_result"
    },
    {
     "data": {
      "image/png": "[encoded data removed]",
      "text/plain": [
       "<Figure size 1440x432 with 2 Axes>"
      ]
     },
     "metadata": {
      "needs_background": "light"
     },
     "output_type": "display_data"
    }
   ],
   "source": [
    "fig,ax=plt.subplots(1,2, figsize=(20,6))\n",
    "sns.scatterplot(data.depth, data.price, ax=ax[0])\n",
    "sns.scatterplot(data.depth, data.depth_categories, ax=ax[1])\n",
    "ax[0].set_title('Depth Ratio vs Sale Price')\n",
    "ax[1].set_title('Depth Ratio vs Our defined Depth Categories\\n (the lower the category, the lower the error)')"
   ]
  },
  {
   "cell_type": "markdown",
   "metadata": {},
   "source": [
    "# Correlation Matrix"
   ]
  },
  {
   "cell_type": "code",
   "execution_count": 21,
   "metadata": {
    "scrolled": false
   },
   "outputs": [
    {
     "data": {
      "image/png": "[encoded data removed]",
      "text/plain": [
       "<Figure size 576x576 with 2 Axes>"
      ]
     },
     "metadata": {
      "needs_background": "light"
     },
     "output_type": "display_data"
    }
   ],
   "source": [
    "datahandler.corr_matrix(data_input_states['numerical_features_qualify_depth'])"
   ]
  },
  {
   "cell_type": "markdown",
   "metadata": {},
   "source": [
    "# Generate Output datasets\n",
    "From this notebook, we have generated the following list of `data_states` which can be used in the next notebook to train our machine learning model."
   ]
  },
  {
   "cell_type": "code",
   "execution_count": 22,
   "metadata": {
    "scrolled": true
   },
   "outputs": [
    {
     "data": {
      "text/plain": [
       "{'raw':        carat        cut color clarity  depth  table     x     y     z  price\n",
       " 0       1.21      Ideal     H     VS2   63.0   57.0  6.73  6.70  4.23   6134\n",
       " 1       0.28  Very Good     D    VVS2   64.0   56.0  4.14  4.17  2.66    532\n",
       " 2       0.42    Premium     F     VS1   61.2   58.0  4.86  4.82  2.96   1103\n",
       " 3       0.26      Ideal     H      IF   61.1   57.0  4.16  4.12  2.53    600\n",
       " 4       1.10       Good     G     SI1   63.4   57.0  6.52  6.55  4.14   4997\n",
       " ...      ...        ...   ...     ...    ...    ...   ...   ...   ...    ...\n",
       " 40340   1.55    Premium     H     VS2   61.3   61.0  7.46  7.39  4.55  11708\n",
       " 40341   0.36      Ideal     D     SI1   60.6   56.0  4.58  4.63  2.79    619\n",
       " 40342   0.57  Very Good     I     VS2   62.2   55.0  5.33  5.34  3.32   1267\n",
       " 40343   1.01  Very Good     F      IF   59.6   62.0  6.47  6.56  3.88   9965\n",
       " 40344   0.54      Ideal     E     SI2   60.4   57.0  5.33  5.27  3.20   1340\n",
       " \n",
       " [40345 rows x 10 columns],\n",
       " 'max_price':        carat        cut color clarity  depth  table     x     y     z  price\n",
       " 0       1.21      Ideal     H     VS2   63.0   57.0  6.73  6.70  4.23   6134\n",
       " 1       0.28  Very Good     D    VVS2   64.0   56.0  4.14  4.17  2.66    532\n",
       " 2       0.42    Premium     F     VS1   61.2   58.0  4.86  4.82  2.96   1103\n",
       " 3       0.26      Ideal     H      IF   61.1   57.0  4.16  4.12  2.53    600\n",
       " 4       1.10       Good     G     SI1   63.4   57.0  6.52  6.55  4.14   4997\n",
       " ...      ...        ...   ...     ...    ...    ...   ...   ...   ...    ...\n",
       " 40340   1.55    Premium     H     VS2   61.3   61.0  7.46  7.39  4.55  11708\n",
       " 40341   0.36      Ideal     D     SI1   60.6   56.0  4.58  4.63  2.79    619\n",
       " 40342   0.57  Very Good     I     VS2   62.2   55.0  5.33  5.34  3.32   1267\n",
       " 40343   1.01  Very Good     F      IF   59.6   62.0  6.47  6.56  3.88   9965\n",
       " 40344   0.54      Ideal     E     SI2   60.4   57.0  5.33  5.27  3.20   1340\n",
       " \n",
       " [40126 rows x 10 columns],\n",
       " 'numerical_features':        carat  cut  color  clarity  depth  table     x     y     z  price\n",
       " 0       1.21    0      4      3.6   63.0   57.0  6.73  6.70  4.23   6134\n",
       " 1       0.28    2      0      2.5   64.0   56.0  4.14  4.17  2.66    532\n",
       " 2       0.42    1      2      3.1   61.2   58.0  4.86  4.82  2.96   1103\n",
       " 3       0.26    0      4      0.0   61.1   57.0  4.16  4.12  2.53    600\n",
       " 4       1.10    3      3      6.0   63.4   57.0  6.52  6.55  4.14   4997\n",
       " ...      ...  ...    ...      ...    ...    ...   ...   ...   ...    ...\n",
       " 40340   1.55    1      4      3.6   61.3   61.0  7.46  7.39  4.55  11708\n",
       " 40341   0.36    0      0      6.0   60.6   56.0  4.58  4.63  2.79    619\n",
       " 40342   0.57    2      5      3.6   62.2   55.0  5.33  5.34  3.32   1267\n",
       " 40343   1.01    2      2      0.0   59.6   62.0  6.47  6.56  3.88   9965\n",
       " 40344   0.54    0      1      6.5   60.4   57.0  5.33  5.27  3.20   1340\n",
       " \n",
       " [40345 rows x 10 columns],\n",
       " 'numerical_features_lt10k':        carat  cut  color  clarity  depth  table     x     y     z  price\n",
       " 0       1.21    0      4      3.6   63.0   57.0  6.73  6.70  4.23   6134\n",
       " 1       0.28    2      0      2.5   64.0   56.0  4.14  4.17  2.66    532\n",
       " 2       0.42    1      2      3.1   61.2   58.0  4.86  4.82  2.96   1103\n",
       " 3       0.26    0      4      0.0   61.1   57.0  4.16  4.12  2.53    600\n",
       " 4       1.10    3      3      6.0   63.4   57.0  6.52  6.55  4.14   4997\n",
       " ...      ...  ...    ...      ...    ...    ...   ...   ...   ...    ...\n",
       " 40339   0.71    1      3      3.6   63.0   56.0  5.70  5.69  3.59   2735\n",
       " 40341   0.36    0      0      6.0   60.6   56.0  4.58  4.63  2.79    619\n",
       " 40342   0.57    2      5      3.6   62.2   55.0  5.33  5.34  3.32   1267\n",
       " 40343   1.01    2      2      0.0   59.6   62.0  6.47  6.56  3.88   9965\n",
       " 40344   0.54    0      1      6.5   60.4   57.0  5.33  5.27  3.20   1340\n",
       " \n",
       " [36450 rows x 10 columns],\n",
       " 'numerical_features_qualify_depth':        carat  cut  color  clarity  depth  table     x     y     z  price  \\\n",
       " 0       1.21    0      4      3.6   63.0   57.0  6.73  6.70  4.23   6134   \n",
       " 1       0.28    2      0      2.5   64.0   56.0  4.14  4.17  2.66    532   \n",
       " 2       0.42    1      2      3.1   61.2   58.0  4.86  4.82  2.96   1103   \n",
       " 3       0.26    0      4      0.0   61.1   57.0  4.16  4.12  2.53    600   \n",
       " 4       1.10    3      3      6.0   63.4   57.0  6.52  6.55  4.14   4997   \n",
       " ...      ...  ...    ...      ...    ...    ...   ...   ...   ...    ...   \n",
       " 40340   1.55    1      4      3.6   61.3   61.0  7.46  7.39  4.55  11708   \n",
       " 40341   0.36    0      0      6.0   60.6   56.0  4.58  4.63  2.79    619   \n",
       " 40342   0.57    2      5      3.6   62.2   55.0  5.33  5.34  3.32   1267   \n",
       " 40343   1.01    2      2      0.0   59.6   62.0  6.47  6.56  3.88   9965   \n",
       " 40344   0.54    0      1      6.5   60.4   57.0  5.33  5.27  3.20   1340   \n",
       " \n",
       "        depth_categories  \n",
       " 0                   0.2  \n",
       " 1                   0.2  \n",
       " 2                   0.0  \n",
       " 3                   0.0  \n",
       " 4                   0.2  \n",
       " ...                 ...  \n",
       " 40340               0.0  \n",
       " 40341               0.0  \n",
       " 40342               0.2  \n",
       " 40343               0.0  \n",
       " 40344               0.0  \n",
       " \n",
       " [40345 rows x 11 columns]}"
      ]
     },
     "execution_count": 22,
     "metadata": {},
     "output_type": "execute_result"
    }
   ],
   "source": [
    "data_input_states"
   ]
  },
  {
   "cell_type": "code",
   "execution_count": 23,
   "metadata": {},
   "outputs": [],
   "source": [
    "for key in data_input_states:\n",
    "    data_input_states[key].to_csv(f'../OUTPUT/{key}.csv', index=False)"
   ]
  },
  {
   "cell_type": "code",
   "execution_count": null,
   "metadata": {},
   "outputs": [],
   "source": []
  }
 ],
 "metadata": {
  "kernelspec": {
   "display_name": "Python 3.6.9 64-bit",
   "language": "python",
   "name": "python36964bit17c6ebb0882a44ad96e177b7fffe16a0"
  },
  "language_info": {
   "codemirror_mode": {
    "name": "ipython",
    "version": 3
   },
   "file_extension": ".py",
   "mimetype": "text/x-python",
   "name": "python",
   "nbconvert_exporter": "python",
   "pygments_lexer": "ipython3",
   "version": "3.6.9"
  }
 },
 "nbformat": 4,
 "nbformat_minor": 4
}
