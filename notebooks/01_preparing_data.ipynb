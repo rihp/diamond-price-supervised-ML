{
 "cells": [
  {
   "cell_type": "markdown",
   "metadata": {},
   "source": [
    "# Config."
   ]
  },
  {
   "cell_type": "markdown",
   "metadata": {},
   "source": [
    "### Import Modules"
   ]
  },
  {
   "cell_type": "code",
   "execution_count": 1,
   "metadata": {},
   "outputs": [],
   "source": [
    "import sys\n",
    "sys.path.append('../')\n",
    "\n",
    "import pandas as pd\n",
    "import numpy as np\n",
    "import seaborn as sns\n",
    "import matplotlib.pyplot as plt\n",
    "\n",
    "###### Data Cleaning\n",
    "from sklearn.preprocessing import StandardScaler, Normalizer\n",
    "from sklearn.pipeline import make_pipeline\n",
    "from sklearn.model_selection import train_test_split\n",
    "\n",
    "###### Regression Models \n",
    "from sklearn.linear_model import LinearRegression\n",
    "from sklearn.svm import LinearSVR, NuSVR, SVR\n",
    "from sklearn.tree import DecisionTreeRegressor, ExtraTreeRegressor\n",
    "\n",
    "##### Measuring models\n",
    "from sklearn.model_selection import cross_val_score\n",
    "\n",
    "#from sklearn.ensemble import *\n",
    "#from sklearn.tree import DecisionTreeClassifier\n",
    "#from sklearn.ensemble import RandomForestClassifier\n",
    "\n",
    "# My modules\n",
    "from src import datahandler"
   ]
  },
  {
   "cell_type": "markdown",
   "metadata": {},
   "source": [
    "### Configure `PATH` for `LOCAL JUPYTER` or `Google Colab`"
   ]
  },
  {
   "cell_type": "markdown",
   "metadata": {},
   "source": [
    "    # Google Colab Setup\n",
    "    from os.path import join\n",
    "    from google.colab import drive\n",
    "    from google.colab import output\n",
    "\n",
    "    ROOT = \"/content/drive\"\n",
    "    drive.mount(ROOT)\n",
    "\n",
    "    PATH = \"drive/My Drive/data/\"\n",
    "\n",
    "    # Play a sound when training is finished\n",
    "    def makesound():\n",
    "      output.eval_js('new Audio(\"https://upload.wikimedia.org/wikipedia/commons/3/34/Sound_Effect_-_Door_Bell.ogg\").play()')"
   ]
  },
  {
   "cell_type": "code",
   "execution_count": 2,
   "metadata": {},
   "outputs": [],
   "source": [
    "# Local Jupyter Setup\n",
    "PATH='../'"
   ]
  },
  {
   "cell_type": "markdown",
   "metadata": {},
   "source": [
    "# Load Training Dataset as `raw_data_train`"
   ]
  },
  {
   "cell_type": "code",
   "execution_count": 3,
   "metadata": {
    "scrolled": false
   },
   "outputs": [
    {
     "data": {
      "text/html": [
       "<div>\n",
       "<style scoped>\n",
       "    .dataframe tbody tr th:only-of-type {\n",
       "        vertical-align: middle;\n",
       "    }\n",
       "\n",
       "    .dataframe tbody tr th {\n",
       "        vertical-align: top;\n",
       "    }\n",
       "\n",
       "    .dataframe thead th {\n",
       "        text-align: right;\n",
       "    }\n",
       "</style>\n",
       "<table border=\"1\" class=\"dataframe\">\n",
       "  <thead>\n",
       "    <tr style=\"text-align: right;\">\n",
       "      <th></th>\n",
       "      <th>carat</th>\n",
       "      <th>cut</th>\n",
       "      <th>color</th>\n",
       "      <th>clarity</th>\n",
       "      <th>depth</th>\n",
       "      <th>table</th>\n",
       "      <th>x</th>\n",
       "      <th>y</th>\n",
       "      <th>z</th>\n",
       "      <th>price</th>\n",
       "    </tr>\n",
       "  </thead>\n",
       "  <tbody>\n",
       "    <tr>\n",
       "      <th>0</th>\n",
       "      <td>1.21</td>\n",
       "      <td>Ideal</td>\n",
       "      <td>H</td>\n",
       "      <td>VS2</td>\n",
       "      <td>63.0</td>\n",
       "      <td>57.0</td>\n",
       "      <td>6.73</td>\n",
       "      <td>6.70</td>\n",
       "      <td>4.23</td>\n",
       "      <td>6134</td>\n",
       "    </tr>\n",
       "    <tr>\n",
       "      <th>1</th>\n",
       "      <td>0.28</td>\n",
       "      <td>Very Good</td>\n",
       "      <td>D</td>\n",
       "      <td>VVS2</td>\n",
       "      <td>64.0</td>\n",
       "      <td>56.0</td>\n",
       "      <td>4.14</td>\n",
       "      <td>4.17</td>\n",
       "      <td>2.66</td>\n",
       "      <td>532</td>\n",
       "    </tr>\n",
       "    <tr>\n",
       "      <th>2</th>\n",
       "      <td>0.42</td>\n",
       "      <td>Premium</td>\n",
       "      <td>F</td>\n",
       "      <td>VS1</td>\n",
       "      <td>61.2</td>\n",
       "      <td>58.0</td>\n",
       "      <td>4.86</td>\n",
       "      <td>4.82</td>\n",
       "      <td>2.96</td>\n",
       "      <td>1103</td>\n",
       "    </tr>\n",
       "    <tr>\n",
       "      <th>3</th>\n",
       "      <td>0.26</td>\n",
       "      <td>Ideal</td>\n",
       "      <td>H</td>\n",
       "      <td>IF</td>\n",
       "      <td>61.1</td>\n",
       "      <td>57.0</td>\n",
       "      <td>4.16</td>\n",
       "      <td>4.12</td>\n",
       "      <td>2.53</td>\n",
       "      <td>600</td>\n",
       "    </tr>\n",
       "    <tr>\n",
       "      <th>4</th>\n",
       "      <td>1.10</td>\n",
       "      <td>Good</td>\n",
       "      <td>G</td>\n",
       "      <td>SI1</td>\n",
       "      <td>63.4</td>\n",
       "      <td>57.0</td>\n",
       "      <td>6.52</td>\n",
       "      <td>6.55</td>\n",
       "      <td>4.14</td>\n",
       "      <td>4997</td>\n",
       "    </tr>\n",
       "  </tbody>\n",
       "</table>\n",
       "</div>"
      ],
      "text/plain": [
       "   carat        cut color clarity  depth  table     x     y     z  price\n",
       "0   1.21      Ideal     H     VS2   63.0   57.0  6.73  6.70  4.23   6134\n",
       "1   0.28  Very Good     D    VVS2   64.0   56.0  4.14  4.17  2.66    532\n",
       "2   0.42    Premium     F     VS1   61.2   58.0  4.86  4.82  2.96   1103\n",
       "3   0.26      Ideal     H      IF   61.1   57.0  4.16  4.12  2.53    600\n",
       "4   1.10       Good     G     SI1   63.4   57.0  6.52  6.55  4.14   4997"
      ]
     },
     "execution_count": 3,
     "metadata": {},
     "output_type": "execute_result"
    }
   ],
   "source": [
    "raw_data_train = pd.read_csv(f'{PATH}INPUT/diamonds_train.csv').drop(columns='Unnamed: 0')\n",
    "raw_data_train.head()"
   ]
  },
  {
   "cell_type": "code",
   "execution_count": 4,
   "metadata": {},
   "outputs": [],
   "source": [
    "###### `dtypes`"
   ]
  },
  {
   "cell_type": "code",
   "execution_count": 5,
   "metadata": {},
   "outputs": [
    {
     "data": {
      "text/plain": [
       "carat      float64\n",
       "cut         object\n",
       "color       object\n",
       "clarity     object\n",
       "depth      float64\n",
       "table      float64\n",
       "x          float64\n",
       "y          float64\n",
       "z          float64\n",
       "price        int64\n",
       "dtype: object"
      ]
     },
     "execution_count": 5,
     "metadata": {},
     "output_type": "execute_result"
    }
   ],
   "source": [
    "raw_data_train.dtypes"
   ]
  },
  {
   "cell_type": "code",
   "execution_count": 6,
   "metadata": {},
   "outputs": [],
   "source": [
    "###### `value_counts`"
   ]
  },
  {
   "cell_type": "code",
   "execution_count": 7,
   "metadata": {},
   "outputs": [
    {
     "data": {
      "text/plain": [
       "Ideal        16090\n",
       "Premium      10339\n",
       "Very Good     9036\n",
       "Good          3694\n",
       "Fair          1186\n",
       "Name: cut, dtype: int64"
      ]
     },
     "execution_count": 7,
     "metadata": {},
     "output_type": "execute_result"
    }
   ],
   "source": [
    "# Diamond Cut\n",
    "raw_data_train.cut.value_counts()"
   ]
  },
  {
   "cell_type": "code",
   "execution_count": 8,
   "metadata": {},
   "outputs": [
    {
     "data": {
      "text/plain": [
       "G    8499\n",
       "E    7351\n",
       "F    7130\n",
       "H    6234\n",
       "D    5074\n",
       "I    4023\n",
       "J    2034\n",
       "Name: color, dtype: int64"
      ]
     },
     "execution_count": 8,
     "metadata": {},
     "output_type": "execute_result"
    }
   ],
   "source": [
    "# Diamond Color\n",
    "raw_data_train.color.value_counts()"
   ]
  },
  {
   "cell_type": "code",
   "execution_count": 9,
   "metadata": {},
   "outputs": [
    {
     "data": {
      "text/plain": [
       "SI1     9751\n",
       "VS2     9178\n",
       "SI2     6828\n",
       "VS1     6101\n",
       "VVS2    3858\n",
       "VVS1    2714\n",
       "IF      1362\n",
       "I1       553\n",
       "Name: clarity, dtype: int64"
      ]
     },
     "execution_count": 9,
     "metadata": {},
     "output_type": "execute_result"
    }
   ],
   "source": [
    "# Diamond Clarity\n",
    "raw_data_train.clarity.value_counts()"
   ]
  },
  {
   "cell_type": "code",
   "execution_count": 10,
   "metadata": {},
   "outputs": [],
   "source": [
    "### Values to predict, a.k.a. : `label`"
   ]
  },
  {
   "cell_type": "code",
   "execution_count": 11,
   "metadata": {},
   "outputs": [
    {
     "data": {
      "text/plain": [
       "625    99\n",
       "789    96\n",
       "605    95\n",
       "776    94\n",
       "596    93\n",
       "Name: price, dtype: int64"
      ]
     },
     "execution_count": 11,
     "metadata": {},
     "output_type": "execute_result"
    }
   ],
   "source": [
    "# LABEL: Diamond Price\n",
    "raw_data_train.price.value_counts().head()"
   ]
  },
  {
   "cell_type": "code",
   "execution_count": 12,
   "metadata": {
    "scrolled": true
   },
   "outputs": [
    {
     "data": {
      "text/plain": [
       "<matplotlib.axes._subplots.AxesSubplot at 0x7fac98a966a0>"
      ]
     },
     "execution_count": 12,
     "metadata": {},
     "output_type": "execute_result"
    },
    {
     "data": {
      "image/png": "[encoded data removed]",
      "text/plain": [
       "<Figure size 1440x216 with 1 Axes>"
      ]
     },
     "metadata": {
      "needs_background": "light"
     },
     "output_type": "display_data"
    }
   ],
   "source": [
    "plt.figure(figsize=(20,3))\n",
    "sns.distplot(raw_data_train.price)"
   ]
  },
  {
   "cell_type": "markdown",
   "metadata": {},
   "source": [
    "## Notes from a basic investigation:"
   ]
  },
  {
   "cell_type": "markdown",
   "metadata": {},
   "source": [
    "    This problem uses continuous data, which is the 'price' of the diamond, and consists of a range of infinite values.\n",
    "\n",
    "    The objective is to generate predictions with a low Root Mean Squared Error (RMSE)\n",
    "\n",
    "    \"\"\"\n",
    "    After interviewing a Diamond seller, they have recommended the use of 4 main features which are considered when calculating the price of a diamond... If these features are all positive, have \"balanced values\", such as clarity, color, etc. the diamond will sell with a very high price.\n",
    "    \"\"\"\n",
    "    \n",
    "    \"\"\"\n",
    "    The dataset contains no null values. It is composed of 8 coninuous variables and 3 categorical values.\n",
    "    \"\"\"\n",
    "    \n",
    "    \"\"\"\n",
    "    By looking at the distribution of the `prices`, we can see that the diamonds are more frequently under price of `5000`. Although the maximum price registered is around `20000`, giving this data to our model could actually make it less precise.\n",
    "    \"\"\"\n",
    "    \n",
    "    \"\"\"\n",
    "    another observation here\n",
    "    \"\"\"\n"
   ]
  },
  {
   "cell_type": "markdown",
   "metadata": {},
   "source": [
    "# Data States\n",
    "\n",
    "We'll make a dictionary with the different `states` of the data, and we will be updating this dictionary as we create new `data_states`, in order to use them easily with our models.\n",
    "\n",
    "- Proposed Data States:\n",
    "    - `raw`: The raw data, without any modifications.\n",
    "    - `max_price`: Raw data, but dropping all rows with a price that goes over a defined `max_price`. It includes categorical and continuous features.\n",
    "    - `numerical_features`: Turn the categorical (object) dtypes into numerics. (using one-hot encoding or label encoding)\n",
    "    - `continuous_features`: Discarding all categorical features.\n",
    "    - `main_features`: Only include the main features described by the diamond seller.\n",
    "    "
   ]
  },
  {
   "cell_type": "markdown",
   "metadata": {},
   "source": [
    "### `data_input_states['raw']`"
   ]
  },
  {
   "cell_type": "code",
   "execution_count": 13,
   "metadata": {},
   "outputs": [],
   "source": [
    "data_input_states = {}\n",
    "data_input_states.update({'raw':raw_data_train})"
   ]
  },
  {
   "cell_type": "markdown",
   "metadata": {},
   "source": [
    "### `data_input_states['max_price']`"
   ]
  },
  {
   "cell_type": "code",
   "execution_count": 14,
   "metadata": {},
   "outputs": [],
   "source": [
    "# Define our filter\n",
    "max_price = 12000\n",
    "\n",
    "# Making a subset of data with fewer outliers\n",
    "data = data_input_states['raw'].copy()\n",
    "data = data[data.price < max_price]\n",
    "data.price.describe()\n",
    "\n",
    "data_input_states.update({'max_price':data})"
   ]
  },
  {
   "cell_type": "markdown",
   "metadata": {},
   "source": [
    "### `data_input_states['numerical_features']`\n",
    "\n",
    "\n",
    "In this case, it would be good to look deeper into how much difference is there between all the GIA `clarity` categories, as they might not follow a linear scale."
   ]
  },
  {
   "cell_type": "code",
   "execution_count": 15,
   "metadata": {
    "scrolled": true
   },
   "outputs": [
    {
     "data": {
      "text/plain": [
       "G    7959\n",
       "E    7062\n",
       "F    6759\n",
       "H    5765\n",
       "D    4872\n",
       "I    3577\n",
       "J    1783\n",
       "Name: color, dtype: int64"
      ]
     },
     "execution_count": 15,
     "metadata": {},
     "output_type": "execute_result"
    }
   ],
   "source": [
    "data.color.value_counts()"
   ]
  },
  {
   "cell_type": "code",
   "execution_count": 16,
   "metadata": {},
   "outputs": [],
   "source": [
    "data = data_input_states['raw'].copy()\n",
    "\n",
    "cleanup_nums = {\"clarity\":    { 'IF':   0,\n",
    "                                'VVS1': 1, 'VVS2':2,\n",
    "                                'VS1':  3,  'VS2':4,\n",
    "                                'SI1':  5,  'SI2':6,\n",
    "                                'I1':   7,},\n",
    "                \n",
    "                \"cut\": {'Fair':4, 'Good':3,'Very Good':2, 'Premium':1,'Ideal':0},\n",
    "               \n",
    "                \"color\": {'D':6, 'E':5, 'F':4, 'G':3,'H':2, 'I':1, 'J':0}\n",
    "               }\n",
    "data.replace(cleanup_nums, inplace=True)\n",
    "data_input_states.update({'numerical_features':data})"
   ]
  },
  {
   "cell_type": "code",
   "execution_count": 17,
   "metadata": {
    "scrolled": false
   },
   "outputs": [
    {
     "data": {
      "image/png": "[encoded data removed]",
      "text/plain": [
       "<Figure size 576x576 with 2 Axes>"
      ]
     },
     "metadata": {
      "needs_background": "light"
     },
     "output_type": "display_data"
    }
   ],
   "source": [
    "datahandler.corr_matrix(data_input_states['numerical_features'])"
   ]
  },
  {
   "cell_type": "markdown",
   "metadata": {},
   "source": [
    "### Normalization and Standarization"
   ]
  },
  {
   "cell_type": "code",
   "execution_count": 18,
   "metadata": {},
   "outputs": [],
   "source": [
    "# Choose one of the data_input_states\n",
    "data = data_input_states['numerical_features'].copy()"
   ]
  },
  {
   "cell_type": "code",
   "execution_count": null,
   "metadata": {},
   "outputs": [],
   "source": []
  },
  {
   "cell_type": "code",
   "execution_count": null,
   "metadata": {},
   "outputs": [],
   "source": []
  },
  {
   "cell_type": "code",
   "execution_count": null,
   "metadata": {},
   "outputs": [],
   "source": []
  },
  {
   "cell_type": "code",
   "execution_count": null,
   "metadata": {},
   "outputs": [],
   "source": []
  },
  {
   "cell_type": "code",
   "execution_count": null,
   "metadata": {},
   "outputs": [],
   "source": []
  },
  {
   "cell_type": "code",
   "execution_count": 19,
   "metadata": {
    "scrolled": true
   },
   "outputs": [
    {
     "data": {
      "text/plain": [
       "{'raw':        carat        cut color clarity  depth  table     x     y     z  price\n",
       " 0       1.21      Ideal     H     VS2   63.0   57.0  6.73  6.70  4.23   6134\n",
       " 1       0.28  Very Good     D    VVS2   64.0   56.0  4.14  4.17  2.66    532\n",
       " 2       0.42    Premium     F     VS1   61.2   58.0  4.86  4.82  2.96   1103\n",
       " 3       0.26      Ideal     H      IF   61.1   57.0  4.16  4.12  2.53    600\n",
       " 4       1.10       Good     G     SI1   63.4   57.0  6.52  6.55  4.14   4997\n",
       " ...      ...        ...   ...     ...    ...    ...   ...   ...   ...    ...\n",
       " 40340   1.55    Premium     H     VS2   61.3   61.0  7.46  7.39  4.55  11708\n",
       " 40341   0.36      Ideal     D     SI1   60.6   56.0  4.58  4.63  2.79    619\n",
       " 40342   0.57  Very Good     I     VS2   62.2   55.0  5.33  5.34  3.32   1267\n",
       " 40343   1.01  Very Good     F      IF   59.6   62.0  6.47  6.56  3.88   9965\n",
       " 40344   0.54      Ideal     E     SI2   60.4   57.0  5.33  5.27  3.20   1340\n",
       " \n",
       " [40345 rows x 10 columns],\n",
       " 'max_price':        carat        cut color clarity  depth  table     x     y     z  price\n",
       " 0       1.21      Ideal     H     VS2   63.0   57.0  6.73  6.70  4.23   6134\n",
       " 1       0.28  Very Good     D    VVS2   64.0   56.0  4.14  4.17  2.66    532\n",
       " 2       0.42    Premium     F     VS1   61.2   58.0  4.86  4.82  2.96   1103\n",
       " 3       0.26      Ideal     H      IF   61.1   57.0  4.16  4.12  2.53    600\n",
       " 4       1.10       Good     G     SI1   63.4   57.0  6.52  6.55  4.14   4997\n",
       " ...      ...        ...   ...     ...    ...    ...   ...   ...   ...    ...\n",
       " 40340   1.55    Premium     H     VS2   61.3   61.0  7.46  7.39  4.55  11708\n",
       " 40341   0.36      Ideal     D     SI1   60.6   56.0  4.58  4.63  2.79    619\n",
       " 40342   0.57  Very Good     I     VS2   62.2   55.0  5.33  5.34  3.32   1267\n",
       " 40343   1.01  Very Good     F      IF   59.6   62.0  6.47  6.56  3.88   9965\n",
       " 40344   0.54      Ideal     E     SI2   60.4   57.0  5.33  5.27  3.20   1340\n",
       " \n",
       " [37777 rows x 10 columns],\n",
       " 'numerical_features':        carat  cut  color  clarity  depth  table     x     y     z  price\n",
       " 0       1.21    0      2        4   63.0   57.0  6.73  6.70  4.23   6134\n",
       " 1       0.28    2      6        2   64.0   56.0  4.14  4.17  2.66    532\n",
       " 2       0.42    1      4        3   61.2   58.0  4.86  4.82  2.96   1103\n",
       " 3       0.26    0      2        0   61.1   57.0  4.16  4.12  2.53    600\n",
       " 4       1.10    3      3        5   63.4   57.0  6.52  6.55  4.14   4997\n",
       " ...      ...  ...    ...      ...    ...    ...   ...   ...   ...    ...\n",
       " 40340   1.55    1      2        4   61.3   61.0  7.46  7.39  4.55  11708\n",
       " 40341   0.36    0      6        5   60.6   56.0  4.58  4.63  2.79    619\n",
       " 40342   0.57    2      1        4   62.2   55.0  5.33  5.34  3.32   1267\n",
       " 40343   1.01    2      4        0   59.6   62.0  6.47  6.56  3.88   9965\n",
       " 40344   0.54    0      5        6   60.4   57.0  5.33  5.27  3.20   1340\n",
       " \n",
       " [40345 rows x 10 columns]}"
      ]
     },
     "execution_count": 19,
     "metadata": {},
     "output_type": "execute_result"
    }
   ],
   "source": [
    "data_input_states"
   ]
  },
  {
   "cell_type": "code",
   "execution_count": 22,
   "metadata": {},
   "outputs": [],
   "source": [
    "for key in data_input_states:\n",
    "    data_input_states[key].to_csv(f'../OUTPUT/{key}.csv')"
   ]
  },
  {
   "cell_type": "code",
   "execution_count": 21,
   "metadata": {},
   "outputs": [
    {
     "name": "stdout",
     "output_type": "stream",
     "text": [
      "raw\n",
      "max_price\n",
      "numerical_features\n"
     ]
    }
   ],
   "source": []
  },
  {
   "cell_type": "markdown",
   "metadata": {},
   "source": [
    "# Preparing variables `X` and `y`"
   ]
  },
  {
   "cell_type": "code",
   "execution_count": 20,
   "metadata": {},
   "outputs": [],
   "source": [
    "X = data.drop(columns='price')\n",
    "y = data.price"
   ]
  }
 ],
 "metadata": {
  "kernelspec": {
   "display_name": "Python 3.6.9 64-bit",
   "language": "python",
   "name": "python36964bit17c6ebb0882a44ad96e177b7fffe16a0"
  },
  "language_info": {
   "codemirror_mode": {
    "name": "ipython",
    "version": 3
   },
   "file_extension": ".py",
   "mimetype": "text/x-python",
   "name": "python",
   "nbconvert_exporter": "python",
   "pygments_lexer": "ipython3",
   "version": "3.6.9"
  }
 },
 "nbformat": 4,
 "nbformat_minor": 4
}
