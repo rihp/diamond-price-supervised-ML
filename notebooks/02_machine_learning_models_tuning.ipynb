{
 "cells": [
  {
   "cell_type": "code",
   "execution_count": 1,
   "metadata": {},
   "outputs": [],
   "source": [
    "# My Modules\n",
    "import sys\n",
    "sys.path.append('../')\n",
    "from src.utils import *\n",
    "from src import datahandler, modeltrainer\n",
    "\n",
    "###### Data tools\n",
    "from math import sqrt\n",
    "import numpy as np\n",
    "import pandas as pd\n",
    "import seaborn as sns\n",
    "import matplotlib.pyplot as plt\n",
    "\n",
    "###### Preprocessing tools\n",
    "from sklearn.utils import all_estimators\n",
    "from sklearn.preprocessing import StandardScaler, Normalizer\n",
    "from sklearn.pipeline import make_pipeline\n",
    "from sklearn.model_selection import train_test_split\n",
    "\n",
    "##### Measuring models\n",
    "from sklearn.model_selection import GridSearchCV, RandomizedSearchCV\n",
    "from sklearn.model_selection import cross_val_score\n",
    "from sklearn.metrics import mean_squared_error\n",
    "\n",
    "#from sklearn.ensemble import *\n",
    "#from sklearn.tree import DecisionTreeClassifier\n",
    "#from sklearn.ensemble import RandomForestClassifier"
   ]
  },
  {
   "cell_type": "code",
   "execution_count": 2,
   "metadata": {},
   "outputs": [],
   "source": [
    "ENV = 'local'\n",
    "\n",
    "if ENV == 'local':\n",
    "    # Local Jupyter Setup\n",
    "    PATH='../'\n",
    "    \n",
    "    #makesound()"
   ]
  },
  {
   "cell_type": "code",
   "execution_count": 3,
   "metadata": {
    "scrolled": false
   },
   "outputs": [
    {
     "data": {
      "text/html": [
       "<div>\n",
       "<style scoped>\n",
       "    .dataframe tbody tr th:only-of-type {\n",
       "        vertical-align: middle;\n",
       "    }\n",
       "\n",
       "    .dataframe tbody tr th {\n",
       "        vertical-align: top;\n",
       "    }\n",
       "\n",
       "    .dataframe thead th {\n",
       "        text-align: right;\n",
       "    }\n",
       "</style>\n",
       "<table border=\"1\" class=\"dataframe\">\n",
       "  <thead>\n",
       "    <tr style=\"text-align: right;\">\n",
       "      <th></th>\n",
       "      <th>carat</th>\n",
       "      <th>cut</th>\n",
       "      <th>color</th>\n",
       "      <th>clarity</th>\n",
       "      <th>depth</th>\n",
       "      <th>table</th>\n",
       "      <th>x</th>\n",
       "      <th>y</th>\n",
       "      <th>z</th>\n",
       "      <th>price</th>\n",
       "      <th>depth_categories</th>\n",
       "    </tr>\n",
       "  </thead>\n",
       "  <tbody>\n",
       "    <tr>\n",
       "      <th>0</th>\n",
       "      <td>1.21</td>\n",
       "      <td>0</td>\n",
       "      <td>4</td>\n",
       "      <td>3.6</td>\n",
       "      <td>63.0</td>\n",
       "      <td>57.0</td>\n",
       "      <td>6.73</td>\n",
       "      <td>6.70</td>\n",
       "      <td>4.23</td>\n",
       "      <td>6134</td>\n",
       "      <td>0.2</td>\n",
       "    </tr>\n",
       "    <tr>\n",
       "      <th>1</th>\n",
       "      <td>0.28</td>\n",
       "      <td>2</td>\n",
       "      <td>0</td>\n",
       "      <td>2.5</td>\n",
       "      <td>64.0</td>\n",
       "      <td>56.0</td>\n",
       "      <td>4.14</td>\n",
       "      <td>4.17</td>\n",
       "      <td>2.66</td>\n",
       "      <td>532</td>\n",
       "      <td>0.2</td>\n",
       "    </tr>\n",
       "    <tr>\n",
       "      <th>2</th>\n",
       "      <td>0.42</td>\n",
       "      <td>1</td>\n",
       "      <td>2</td>\n",
       "      <td>3.1</td>\n",
       "      <td>61.2</td>\n",
       "      <td>58.0</td>\n",
       "      <td>4.86</td>\n",
       "      <td>4.82</td>\n",
       "      <td>2.96</td>\n",
       "      <td>1103</td>\n",
       "      <td>0.0</td>\n",
       "    </tr>\n",
       "    <tr>\n",
       "      <th>3</th>\n",
       "      <td>0.26</td>\n",
       "      <td>0</td>\n",
       "      <td>4</td>\n",
       "      <td>0.0</td>\n",
       "      <td>61.1</td>\n",
       "      <td>57.0</td>\n",
       "      <td>4.16</td>\n",
       "      <td>4.12</td>\n",
       "      <td>2.53</td>\n",
       "      <td>600</td>\n",
       "      <td>0.0</td>\n",
       "    </tr>\n",
       "    <tr>\n",
       "      <th>4</th>\n",
       "      <td>1.10</td>\n",
       "      <td>3</td>\n",
       "      <td>3</td>\n",
       "      <td>6.0</td>\n",
       "      <td>63.4</td>\n",
       "      <td>57.0</td>\n",
       "      <td>6.52</td>\n",
       "      <td>6.55</td>\n",
       "      <td>4.14</td>\n",
       "      <td>4997</td>\n",
       "      <td>0.2</td>\n",
       "    </tr>\n",
       "  </tbody>\n",
       "</table>\n",
       "</div>"
      ],
      "text/plain": [
       "   carat  cut  color  clarity  depth  table     x     y     z  price  \\\n",
       "0   1.21    0      4      3.6   63.0   57.0  6.73  6.70  4.23   6134   \n",
       "1   0.28    2      0      2.5   64.0   56.0  4.14  4.17  2.66    532   \n",
       "2   0.42    1      2      3.1   61.2   58.0  4.86  4.82  2.96   1103   \n",
       "3   0.26    0      4      0.0   61.1   57.0  4.16  4.12  2.53    600   \n",
       "4   1.10    3      3      6.0   63.4   57.0  6.52  6.55  4.14   4997   \n",
       "\n",
       "   depth_categories  \n",
       "0               0.2  \n",
       "1               0.2  \n",
       "2               0.0  \n",
       "3               0.0  \n",
       "4               0.2  "
      ]
     },
     "execution_count": 3,
     "metadata": {},
     "output_type": "execute_result"
    }
   ],
   "source": [
    "data = pd.read_csv('../OUTPUT/numfeats_qd.csv')\n",
    "data.head()"
   ]
  },
  {
   "cell_type": "markdown",
   "metadata": {},
   "source": [
    "# Preparing variables `X` and `y`"
   ]
  },
  {
   "cell_type": "code",
   "execution_count": 4,
   "metadata": {},
   "outputs": [],
   "source": [
    "Xunprocessed = data.drop(columns='price')\n",
    "y = data.price"
   ]
  },
  {
   "cell_type": "markdown",
   "metadata": {},
   "source": [
    "### Quick Visualization"
   ]
  },
  {
   "cell_type": "code",
   "execution_count": 5,
   "metadata": {
    "scrolled": true
   },
   "outputs": [],
   "source": [
    "visualize = False\n",
    "if visualize:\n",
    "    columns = Xunprocessed.columns   # Use this variable to specify the features to visaualize.\n",
    "    datahandler.visualize_data(Xunprocessed[columns],y)"
   ]
  },
  {
   "cell_type": "code",
   "execution_count": 6,
   "metadata": {
    "scrolled": true
   },
   "outputs": [
    {
     "data": {
      "image/png": "[encoded data removed]",
      "text/plain": [
       "<Figure size 576x576 with 2 Axes>"
      ]
     },
     "metadata": {
      "needs_background": "light"
     },
     "output_type": "display_data"
    }
   ],
   "source": [
    "datahandler.corr_matrix(Xunprocessed)"
   ]
  },
  {
   "cell_type": "code",
   "execution_count": 7,
   "metadata": {
    "scrolled": true
   },
   "outputs": [
    {
     "data": {
      "text/plain": [
       "<matplotlib.axes._subplots.AxesSubplot at 0x7f802d400c50>"
      ]
     },
     "execution_count": 7,
     "metadata": {},
     "output_type": "execute_result"
    },
    {
     "data": {
      "image/png": "[encoded data removed]",
      "text/plain": [
       "<Figure size 1440x216 with 1 Axes>"
      ]
     },
     "metadata": {
      "needs_background": "light"
     },
     "output_type": "display_data"
    }
   ],
   "source": [
    "plt.figure(figsize=(20,3))\n",
    "sns.distplot(y)"
   ]
  },
  {
   "cell_type": "markdown",
   "metadata": {},
   "source": [
    "# Pre-processing data pipeline"
   ]
  },
  {
   "cell_type": "markdown",
   "metadata": {},
   "source": [
    "`sklearn estimators`\n",
    "![sklearn estimators](https://scikit-learn.org/stable/_static/ml_map.png)\n",
    "\n",
    "\n",
    "Links to more documentation: \n",
    " - [`sklearn.pipeline`](https://scikit-learn.org/stable/modules/classes.html#module-sklearn.pipeline)\n",
    " - `Estimator class`\n",
    "     - `myestimator.get_params`"
   ]
  },
  {
   "cell_type": "code",
   "execution_count": 8,
   "metadata": {},
   "outputs": [
    {
     "data": {
      "text/plain": [
       "[('ARDRegression', sklearn.linear_model._bayes.ARDRegression),\n",
       " ('AdaBoostRegressor', sklearn.ensemble._weight_boosting.AdaBoostRegressor),\n",
       " ('BaggingRegressor', sklearn.ensemble._bagging.BaggingRegressor),\n",
       " ('BayesianRidge', sklearn.linear_model._bayes.BayesianRidge),\n",
       " ('CCA', sklearn.cross_decomposition._cca.CCA),\n",
       " ('DecisionTreeRegressor', sklearn.tree._classes.DecisionTreeRegressor),\n",
       " ('DummyRegressor', sklearn.dummy.DummyRegressor),\n",
       " ('ElasticNet', sklearn.linear_model._coordinate_descent.ElasticNet),\n",
       " ('ElasticNetCV', sklearn.linear_model._coordinate_descent.ElasticNetCV),\n",
       " ('ExtraTreeRegressor', sklearn.tree._classes.ExtraTreeRegressor),\n",
       " ('ExtraTreesRegressor', sklearn.ensemble._forest.ExtraTreesRegressor),\n",
       " ('GaussianProcessRegressor',\n",
       "  sklearn.gaussian_process._gpr.GaussianProcessRegressor),\n",
       " ('GradientBoostingRegressor', sklearn.ensemble._gb.GradientBoostingRegressor),\n",
       " ('HistGradientBoostingRegressor',\n",
       "  sklearn.ensemble._hist_gradient_boosting.gradient_boosting.HistGradientBoostingRegressor),\n",
       " ('HuberRegressor', sklearn.linear_model._huber.HuberRegressor),\n",
       " ('IsotonicRegression', sklearn.isotonic.IsotonicRegression),\n",
       " ('KNeighborsRegressor', sklearn.neighbors._regression.KNeighborsRegressor),\n",
       " ('KernelRidge', sklearn.kernel_ridge.KernelRidge),\n",
       " ('Lars', sklearn.linear_model._least_angle.Lars),\n",
       " ('LarsCV', sklearn.linear_model._least_angle.LarsCV),\n",
       " ('Lasso', sklearn.linear_model._coordinate_descent.Lasso),\n",
       " ('LassoCV', sklearn.linear_model._coordinate_descent.LassoCV),\n",
       " ('LassoLars', sklearn.linear_model._least_angle.LassoLars),\n",
       " ('LassoLarsCV', sklearn.linear_model._least_angle.LassoLarsCV),\n",
       " ('LassoLarsIC', sklearn.linear_model._least_angle.LassoLarsIC),\n",
       " ('LinearRegression', sklearn.linear_model._base.LinearRegression),\n",
       " ('LinearSVR', sklearn.svm._classes.LinearSVR),\n",
       " ('MLPRegressor', sklearn.neural_network._multilayer_perceptron.MLPRegressor),\n",
       " ('MultiOutputRegressor', sklearn.multioutput.MultiOutputRegressor),\n",
       " ('MultiTaskElasticNet',\n",
       "  sklearn.linear_model._coordinate_descent.MultiTaskElasticNet),\n",
       " ('MultiTaskElasticNetCV',\n",
       "  sklearn.linear_model._coordinate_descent.MultiTaskElasticNetCV),\n",
       " ('MultiTaskLasso', sklearn.linear_model._coordinate_descent.MultiTaskLasso),\n",
       " ('MultiTaskLassoCV',\n",
       "  sklearn.linear_model._coordinate_descent.MultiTaskLassoCV),\n",
       " ('NuSVR', sklearn.svm._classes.NuSVR),\n",
       " ('OrthogonalMatchingPursuit',\n",
       "  sklearn.linear_model._omp.OrthogonalMatchingPursuit),\n",
       " ('OrthogonalMatchingPursuitCV',\n",
       "  sklearn.linear_model._omp.OrthogonalMatchingPursuitCV),\n",
       " ('PLSCanonical', sklearn.cross_decomposition._pls.PLSCanonical),\n",
       " ('PLSRegression', sklearn.cross_decomposition._pls.PLSRegression),\n",
       " ('PassiveAggressiveRegressor',\n",
       "  sklearn.linear_model._passive_aggressive.PassiveAggressiveRegressor),\n",
       " ('RANSACRegressor', sklearn.linear_model._ransac.RANSACRegressor),\n",
       " ('RadiusNeighborsRegressor',\n",
       "  sklearn.neighbors._regression.RadiusNeighborsRegressor),\n",
       " ('RandomForestRegressor', sklearn.ensemble._forest.RandomForestRegressor),\n",
       " ('RegressorChain', sklearn.multioutput.RegressorChain),\n",
       " ('Ridge', sklearn.linear_model._ridge.Ridge),\n",
       " ('RidgeCV', sklearn.linear_model._ridge.RidgeCV),\n",
       " ('SGDRegressor', sklearn.linear_model._stochastic_gradient.SGDRegressor),\n",
       " ('SVR', sklearn.svm._classes.SVR),\n",
       " ('StackingRegressor', sklearn.ensemble._stacking.StackingRegressor),\n",
       " ('TheilSenRegressor', sklearn.linear_model._theil_sen.TheilSenRegressor),\n",
       " ('TransformedTargetRegressor',\n",
       "  sklearn.compose._target.TransformedTargetRegressor),\n",
       " ('VotingRegressor', sklearn.ensemble._voting.VotingRegressor)]"
      ]
     },
     "metadata": {},
     "output_type": "display_data"
    }
   ],
   "source": [
    "\n",
    "# Feeling lucky?\n",
    "Lucky = True\n",
    "# We could check all possible estimators in the sklearn library:\n",
    "if Lucky: display(all_estimators(type_filter='regressor'))\n"
   ]
  },
  {
   "cell_type": "code",
   "execution_count": 9,
   "metadata": {},
   "outputs": [],
   "source": [
    "pipelineA = [    StandardScaler()]\n",
    "pipelineB = [    StandardScaler(),    Normalizer(),]\n",
    "\n",
    "tr = make_pipeline(*pipelineA)\n",
    "\n",
    "# We'll use this transformation pipeline for our training, testing, and final predictions\n",
    "Xprocessed = tr.fit_transform(Xunprocessed)"
   ]
  },
  {
   "cell_type": "code",
   "execution_count": 10,
   "metadata": {},
   "outputs": [
    {
     "data": {
      "text/html": [
       "<div>\n",
       "<style scoped>\n",
       "    .dataframe tbody tr th:only-of-type {\n",
       "        vertical-align: middle;\n",
       "    }\n",
       "\n",
       "    .dataframe tbody tr th {\n",
       "        vertical-align: top;\n",
       "    }\n",
       "\n",
       "    .dataframe thead th {\n",
       "        text-align: right;\n",
       "    }\n",
       "</style>\n",
       "<table border=\"1\" class=\"dataframe\">\n",
       "  <thead>\n",
       "    <tr style=\"text-align: right;\">\n",
       "      <th></th>\n",
       "      <th>0</th>\n",
       "      <th>1</th>\n",
       "      <th>2</th>\n",
       "      <th>3</th>\n",
       "      <th>4</th>\n",
       "      <th>5</th>\n",
       "      <th>6</th>\n",
       "      <th>7</th>\n",
       "      <th>8</th>\n",
       "      <th>9</th>\n",
       "    </tr>\n",
       "  </thead>\n",
       "  <tbody>\n",
       "    <tr>\n",
       "      <th>0</th>\n",
       "      <td>0.880093</td>\n",
       "      <td>-0.982962</td>\n",
       "      <td>0.833658</td>\n",
       "      <td>-0.395673</td>\n",
       "      <td>0.877395</td>\n",
       "      <td>-0.205924</td>\n",
       "      <td>0.897395</td>\n",
       "      <td>0.844339</td>\n",
       "      <td>1.001745</td>\n",
       "      <td>1.021044</td>\n",
       "    </tr>\n",
       "    <tr>\n",
       "      <th>1</th>\n",
       "      <td>-1.095267</td>\n",
       "      <td>0.809998</td>\n",
       "      <td>-1.525915</td>\n",
       "      <td>-0.977066</td>\n",
       "      <td>1.579543</td>\n",
       "      <td>-0.653290</td>\n",
       "      <td>-1.417842</td>\n",
       "      <td>-1.358400</td>\n",
       "      <td>-1.261634</td>\n",
       "      <td>1.021044</td>\n",
       "    </tr>\n",
       "  </tbody>\n",
       "</table>\n",
       "</div>"
      ],
      "text/plain": [
       "          0         1         2         3         4         5         6  \\\n",
       "0  0.880093 -0.982962  0.833658 -0.395673  0.877395 -0.205924  0.897395   \n",
       "1 -1.095267  0.809998 -1.525915 -0.977066  1.579543 -0.653290 -1.417842   \n",
       "\n",
       "          7         8         9  \n",
       "0  0.844339  1.001745  1.021044  \n",
       "1 -1.358400 -1.261634  1.021044  "
      ]
     },
     "execution_count": 10,
     "metadata": {},
     "output_type": "execute_result"
    }
   ],
   "source": [
    "pd.DataFrame(Xprocessed).head(2)"
   ]
  },
  {
   "cell_type": "markdown",
   "metadata": {},
   "source": [
    "## Train, test, split\n",
    "\n",
    "Starting from `Xprocessed`, create 2 groups of X and y "
   ]
  },
  {
   "cell_type": "code",
   "execution_count": 11,
   "metadata": {},
   "outputs": [
    {
     "name": "stdout",
     "output_type": "stream",
     "text": [
      "(32276, 10) (8069, 10) (32276,) (8069,)\n"
     ]
    }
   ],
   "source": [
    "X_train, X_test, y_train, y_test = train_test_split(Xprocessed, y, test_size=0.2)\n",
    "print(X_train.shape, X_test.shape, y_train.shape, y_test.shape)"
   ]
  },
  {
   "cell_type": "markdown",
   "metadata": {},
   "source": [
    "# Define my models and make a first `cross_val_score` if needed.\n",
    "\n",
    "Here, consider loading a trained model, using pickle and [this guide](https://scikit-learn.org/stable/modules/model_persistence.html):"
   ]
  },
  {
   "cell_type": "code",
   "execution_count": 12,
   "metadata": {
    "scrolled": true
   },
   "outputs": [
    {
     "data": {
      "text/plain": [
       "dict_keys(['BayesianRidge', 'HuberRegressor', 'KNeighborsRegressor', 'LassoCV', 'Lars', 'MultiTaskElasticNet', 'MultiTaskLasso', 'MLPRegressor', 'TheilSenRegressor'])"
      ]
     },
     "execution_count": 12,
     "metadata": {},
     "output_type": "execute_result"
    }
   ],
   "source": [
    "#I have defined them in this module\n",
    "models = modeltrainer.models\n",
    "models.keys()"
   ]
  },
  {
   "cell_type": "code",
   "execution_count": null,
   "metadata": {
    "scrolled": false
   },
   "outputs": [
    {
     "name": "stdout",
     "output_type": "stream",
     "text": [
      "----------------------------------------------------------------------------------------------------\n",
      "Model: (BayesianRidge)\n",
      "[CV]  ................................................................\n",
      "[CV] ............................. , score=-1262237.574, total=   0.0s\n",
      "[CV]  ................................................................\n",
      "[CV] ............................. , score=-1376409.824, total=   0.1s\n",
      "[CV]  ................................................................\n"
     ]
    },
    {
     "name": "stderr",
     "output_type": "stream",
     "text": [
      "[Parallel(n_jobs=1)]: Using backend SequentialBackend with 1 concurrent workers.\n",
      "[Parallel(n_jobs=1)]: Done   1 out of   1 | elapsed:    0.0s remaining:    0.0s\n",
      "[Parallel(n_jobs=1)]: Done   2 out of   2 | elapsed:    0.1s remaining:    0.0s\n"
     ]
    },
    {
     "name": "stdout",
     "output_type": "stream",
     "text": [
      "[CV] ............................. , score=-1387767.782, total=   0.1s\n",
      "[CV]  ................................................................\n",
      "[CV] ............................. , score=-1375445.533, total=   0.1s\n",
      "[CV]  ................................................................\n",
      "[CV] ............................. , score=-1463543.279, total=   0.1s\n",
      "[CV]  ................................................................\n",
      "[CV] ............................. , score=-1421768.959, total=   0.1s\n",
      "[CV]  ................................................................\n",
      "[CV] ............................. , score=-1363010.655, total=   0.1s\n",
      "[CV]  ................................................................\n",
      "[CV] ............................. , score=-1533514.779, total=   0.1s\n",
      "[CV]  ................................................................\n",
      "[CV] ............................. , score=-2013305.469, total=   0.1s\n",
      "[CV]  ................................................................\n",
      "[CV] ............................. , score=-1362842.245, total=   0.0s\n",
      "   Xunprocessed    MSE=1455984.609822696      \t RMSE=1206.6418730603941\n",
      "[CV]  ................................................................\n",
      "[CV] ............................. , score=-1262241.499, total=   0.0s\n",
      "[CV]  ................................................................\n"
     ]
    },
    {
     "name": "stderr",
     "output_type": "stream",
     "text": [
      "[Parallel(n_jobs=1)]: Done  10 out of  10 | elapsed:    0.9s finished\n",
      "[Parallel(n_jobs=1)]: Using backend SequentialBackend with 1 concurrent workers.\n",
      "[Parallel(n_jobs=1)]: Done   1 out of   1 | elapsed:    0.1s remaining:    0.0s\n",
      "[Parallel(n_jobs=1)]: Done   2 out of   2 | elapsed:    0.1s remaining:    0.0s\n"
     ]
    },
    {
     "name": "stdout",
     "output_type": "stream",
     "text": [
      "[CV] ............................. , score=-1376412.578, total=   0.0s\n",
      "[CV]  ................................................................\n",
      "[CV] ............................. , score=-1387776.537, total=   0.1s\n",
      "[CV]  ................................................................\n",
      "[CV] ............................. , score=-1375446.519, total=   0.1s\n",
      "[CV]  ................................................................\n",
      "[CV] ............................. , score=-1463540.556, total=   0.1s\n",
      "[CV]  ................................................................\n",
      "[CV] ............................. , score=-1421764.692, total=   0.1s\n",
      "[CV]  ................................................................\n",
      "[CV] ............................. , score=-1363008.381, total=   0.1s\n",
      "[CV]  ................................................................\n",
      "[CV] ............................. , score=-1533516.137, total=   0.0s\n",
      "[CV]  ................................................................\n",
      "[CV] ............................. , score=-2004489.725, total=   0.0s\n",
      "[CV]  ................................................................\n",
      "[CV] ............................. , score=-1362842.164, total=   0.0s\n",
      "   Xprocessed      MSE=1455103.8788530114      \t RMSE=1206.27686658288\n",
      "----------------------------------------------------------------------------------------------------\n",
      "Model: (HuberRegressor)\n",
      "[CV]  ................................................................\n"
     ]
    },
    {
     "name": "stderr",
     "output_type": "stream",
     "text": [
      "[Parallel(n_jobs=1)]: Done  10 out of  10 | elapsed:    0.7s finished\n",
      "[Parallel(n_jobs=1)]: Using backend SequentialBackend with 1 concurrent workers.\n",
      "/home/rh/.local/lib/python3.6/site-packages/sklearn/linear_model/_huber.py:296: ConvergenceWarning: lbfgs failed to converge (status=1):\n",
      "STOP: TOTAL NO. of ITERATIONS REACHED LIMIT.\n",
      "\n",
      "Increase the number of iterations (max_iter) or scale the data as shown in:\n",
      "    https://scikit-learn.org/stable/modules/preprocessing.html\n",
      "  self.n_iter_ = _check_optimize_result(\"lbfgs\", opt_res, self.max_iter)\n",
      "[Parallel(n_jobs=1)]: Done   1 out of   1 | elapsed:    1.2s remaining:    0.0s\n"
     ]
    },
    {
     "name": "stdout",
     "output_type": "stream",
     "text": [
      "[CV] ............................. , score=-1415219.386, total=   1.2s\n",
      "[CV]  ................................................................\n"
     ]
    },
    {
     "name": "stderr",
     "output_type": "stream",
     "text": [
      "/home/rh/.local/lib/python3.6/site-packages/sklearn/linear_model/_huber.py:296: ConvergenceWarning: lbfgs failed to converge (status=1):\n",
      "STOP: TOTAL NO. of ITERATIONS REACHED LIMIT.\n",
      "\n",
      "Increase the number of iterations (max_iter) or scale the data as shown in:\n",
      "    https://scikit-learn.org/stable/modules/preprocessing.html\n",
      "  self.n_iter_ = _check_optimize_result(\"lbfgs\", opt_res, self.max_iter)\n",
      "[Parallel(n_jobs=1)]: Done   2 out of   2 | elapsed:    2.4s remaining:    0.0s\n"
     ]
    },
    {
     "name": "stdout",
     "output_type": "stream",
     "text": [
      "[CV] ............................. , score=-1631549.135, total=   1.2s\n",
      "[CV]  ................................................................\n"
     ]
    },
    {
     "name": "stderr",
     "output_type": "stream",
     "text": [
      "/home/rh/.local/lib/python3.6/site-packages/sklearn/linear_model/_huber.py:296: ConvergenceWarning: lbfgs failed to converge (status=1):\n",
      "STOP: TOTAL NO. of ITERATIONS REACHED LIMIT.\n",
      "\n",
      "Increase the number of iterations (max_iter) or scale the data as shown in:\n",
      "    https://scikit-learn.org/stable/modules/preprocessing.html\n",
      "  self.n_iter_ = _check_optimize_result(\"lbfgs\", opt_res, self.max_iter)\n"
     ]
    },
    {
     "name": "stdout",
     "output_type": "stream",
     "text": [
      "[CV] ............................. , score=-1708573.358, total=   1.1s\n",
      "[CV]  ................................................................\n"
     ]
    },
    {
     "name": "stderr",
     "output_type": "stream",
     "text": [
      "/home/rh/.local/lib/python3.6/site-packages/sklearn/linear_model/_huber.py:296: ConvergenceWarning: lbfgs failed to converge (status=1):\n",
      "STOP: TOTAL NO. of ITERATIONS REACHED LIMIT.\n",
      "\n",
      "Increase the number of iterations (max_iter) or scale the data as shown in:\n",
      "    https://scikit-learn.org/stable/modules/preprocessing.html\n",
      "  self.n_iter_ = _check_optimize_result(\"lbfgs\", opt_res, self.max_iter)\n"
     ]
    },
    {
     "name": "stdout",
     "output_type": "stream",
     "text": [
      "[CV] ............................. , score=-1585948.753, total=   1.3s\n",
      "[CV]  ................................................................\n"
     ]
    }
   ],
   "source": [
    "# Flip this logic switch to test all the available models in the `modeltrainer` module\n",
    "recheck_models = True\n",
    "\n",
    "if recheck_models:\n",
    "    # Configure the cross_val_score parameters here\n",
    "    verbose = 3\n",
    "    cv = 10\n",
    "    for name, model in models.items():\n",
    "        try:\n",
    "            print(f\"{'-'*100}\\nModel: ({name})\")\n",
    "            scores = cross_val_score(model, Xunprocessed, y,\n",
    "                                     cv=cv,   verbose=verbose,\n",
    "                                     scoring='neg_mean_squared_error')\n",
    "            MSE = abs(np.mean(scores))\n",
    "            print(f\"   Xunprocessed    MSE={MSE}      \\t RMSE={sqrt(MSE)}\")\n",
    "            scores = cross_val_score(model, Xprocessed, y,\n",
    "                                     cv=cv, verbose=verbose,\n",
    "                                     scoring='neg_mean_squared_error',\n",
    "                                     )\n",
    "            MSE = abs(np.mean(scores))\n",
    "            print(f\"   Xprocessed      MSE={MSE}      \\t RMSE={sqrt(MSE)}\")\n",
    "        except Exception as e:\n",
    "            print(f\"{'+'*100}\\n     {e}\")\n",
    "        \n",
    "makesound('coin')"
   ]
  },
  {
   "cell_type": "code",
   "execution_count": null,
   "metadata": {
    "scrolled": true
   },
   "outputs": [],
   "source": [
    "makesound('coin')"
   ]
  },
  {
   "cell_type": "code",
   "execution_count": null,
   "metadata": {},
   "outputs": [],
   "source": [
    "break"
   ]
  },
  {
   "cell_type": "markdown",
   "metadata": {},
   "source": [
    "# 🔢️  Grid-Search Cross-Validation ♨️\n",
    "\n",
    "Select a model, and set up a parametrs_grid. Iterate over all the possible mixes of parameters, and save the fitted model \n",
    "\n",
    "#### Also consider using `RandomizedSearchCV`"
   ]
  },
  {
   "cell_type": "code",
   "execution_count": null,
   "metadata": {
    "scrolled": false
   },
   "outputs": [],
   "source": [
    "# Select my model\n",
    "my_model = models['HistGradientBoostingRegressor']\n",
    "#my_model.get_params()"
   ]
  },
  {
   "cell_type": "code",
   "execution_count": null,
   "metadata": {},
   "outputs": [],
   "source": [
    "parameters_grid = {#'loss':['ls', 'lad'],\n",
    "                  'n_estimators':[1100],\n",
    "                  'learning_rate':[0.1],\n",
    "                 # 'max_bins':[255],\n",
    "                 # 'max_iter':[86,87,88],\n",
    "                  'max_leaf_nodes':[20],\n",
    "                 # 'scoring':['neg_root_mean_squared_error'],\n",
    "                   'criterion':['mse'], #'friedman_mse'\n",
    "                  'random_state':[1]\n",
    "                  }"
   ]
  },
  {
   "cell_type": "markdown",
   "metadata": {},
   "source": [
    "# Fit my model with GridSearchCV (By using X_train and y_train, we are leveraging on the Xprocessed data we have defined above)"
   ]
  },
  {
   "cell_type": "code",
   "execution_count": null,
   "metadata": {
    "scrolled": true
   },
   "outputs": [],
   "source": [
    "reg = GridSearchCV(my_model, parameters_grid, verbose=50,\n",
    "                   n_jobs=1,     # How many CPU cores to use\n",
    "                   cv=3,\n",
    "                   scoring='neg_mean_squared_error'\n",
    "                  ).fit(X_train, y_train)\n",
    "makesound()"
   ]
  },
  {
   "cell_type": "markdown",
   "metadata": {},
   "source": [
    "    This is my best estimator model, according to the crossvalidation process we just ran!"
   ]
  },
  {
   "cell_type": "code",
   "execution_count": null,
   "metadata": {
    "scrolled": false
   },
   "outputs": [],
   "source": [
    "reg.best_estimator_"
   ]
  },
  {
   "cell_type": "code",
   "execution_count": null,
   "metadata": {},
   "outputs": [],
   "source": [
    "reg.best_params_"
   ]
  },
  {
   "cell_type": "markdown",
   "metadata": {},
   "source": [
    "# Compare the GROUND TRUTH with our predicted `ŷ_test`"
   ]
  },
  {
   "cell_type": "markdown",
   "metadata": {},
   "source": [
    "#### I can use my fitted model to predict any given set of X values\n",
    " In this case, I want to predict the section of my `train_data` which my model has never seen (the `X_test`)"
   ]
  },
  {
   "cell_type": "code",
   "execution_count": null,
   "metadata": {
    "scrolled": false
   },
   "outputs": [],
   "source": [
    "my_pred = reg.predict(X_test)\n",
    "my_pred.shape"
   ]
  },
  {
   "cell_type": "markdown",
   "metadata": {},
   "source": [
    "## Measure RMSE"
   ]
  },
  {
   "cell_type": "code",
   "execution_count": null,
   "metadata": {
    "scrolled": true
   },
   "outputs": [],
   "source": [
    "RMSE = sqrt(mean_squared_error(y_test,  my_pred))\n",
    "print(f'Current score: {RMSE}    \\n  Highest score: {modeltrainer.highest_score}')\n",
    "\n",
    "if RMSE < modeltrainer.highest_score:\n",
    "    new_high_score()"
   ]
  },
  {
   "cell_type": "markdown",
   "metadata": {},
   "source": [
    "\n",
    "    # #############################################################################\n",
    "    # Plot feature importance\n",
    "    feature_importance = reg.feature_importances_\n",
    "    # make importances relative to max importance\n",
    "    feature_importance = 100.0 * (feature_importance / feature_importance.max())\n",
    "    sorted_idx = np.argsort(feature_importance)\n",
    "    pos = np.arange(sorted_idx.shape[0]) + .5\n",
    "    plt.subplot(1, 2, 2)\n",
    "    plt.barh(pos, feature_importance[sorted_idx], align='center')\n",
    "    plt.yticks(pos, boston.feature_names[sorted_idx])\n",
    "    plt.xlabel('Relative Importance')\n",
    "    plt.title('Variable Importance')\n",
    "    plt.show()"
   ]
  },
  {
   "cell_type": "code",
   "execution_count": null,
   "metadata": {
    "scrolled": true
   },
   "outputs": [],
   "source": [
    "reg_refit = reg.fit(Xunprocessed, y)"
   ]
  },
  {
   "cell_type": "code",
   "execution_count": null,
   "metadata": {},
   "outputs": [],
   "source": [
    "reg.best_params_"
   ]
  },
  {
   "cell_type": "code",
   "execution_count": null,
   "metadata": {},
   "outputs": [],
   "source": [
    "break"
   ]
  },
  {
   "cell_type": "markdown",
   "metadata": {},
   "source": [
    "# Train again the model, but using all the X data, before sending a prediction to kaggle"
   ]
  },
  {
   "cell_type": "code",
   "execution_count": null,
   "metadata": {
    "scrolled": true
   },
   "outputs": [],
   "source": [
    "reg = GridSearchCV(my_model, parameters_grid, verbose=10,\n",
    "                   scoring='neg_mean_squared_error'\n",
    "                  ).fit(Xunprocessed, y)\n",
    "makesound()"
   ]
  },
  {
   "cell_type": "code",
   "execution_count": null,
   "metadata": {},
   "outputs": [],
   "source": [
    "makesound()"
   ]
  },
  {
   "cell_type": "markdown",
   "metadata": {},
   "source": [
    "# Take this new regression model, and use it to predict the values of `y` in the kaggle dataset"
   ]
  },
  {
   "cell_type": "code",
   "execution_count": null,
   "metadata": {
    "scrolled": true
   },
   "outputs": [],
   "source": [
    "X_competition = pd.read_csv(f'../INPUT/diamonds_test.csv')#.drop(columns='Unnamed: 0')\n",
    "X_competition.head(3)"
   ]
  },
  {
   "cell_type": "code",
   "execution_count": null,
   "metadata": {},
   "outputs": [],
   "source": [
    "# Remove outlier prices:\n",
    "#X_competition = X_competition[X_competition.price < 10000]"
   ]
  },
  {
   "cell_type": "markdown",
   "metadata": {},
   "source": [
    "### Reuse my data processing pipeline to make this `test data` look like the data I fitted my model with\n"
   ]
  },
  {
   "cell_type": "code",
   "execution_count": null,
   "metadata": {
    "scrolled": true
   },
   "outputs": [],
   "source": [
    "X_competition_processed = datahandler.use_my_numeric_scales(X_competition)\n",
    "X_competition_processed['depth_categories'] = X_competition_processed.depth\n",
    "X_competition_processed['depth_categories'] = X_competition_processed.depth_categories.apply(datahandler.depth_qualifyer)\n",
    "X_competition_processed.drop(columns=\"Unnamed: 0\", inplace=True)\n",
    "X_competition_processed.head(3)"
   ]
  },
  {
   "cell_type": "code",
   "execution_count": null,
   "metadata": {},
   "outputs": [],
   "source": [
    "reg.best_estimator_"
   ]
  },
  {
   "cell_type": "code",
   "execution_count": null,
   "metadata": {
    "scrolled": true
   },
   "outputs": [],
   "source": [
    "my_prediction = reg.predict(X_competition_processed)"
   ]
  },
  {
   "cell_type": "code",
   "execution_count": null,
   "metadata": {},
   "outputs": [],
   "source": [
    "df = pd.DataFrame(my_prediction)\n",
    "df = df.reset_index()\n",
    "df.columns = ['id', 'price']\n",
    "df.head()"
   ]
  },
  {
   "cell_type": "code",
   "execution_count": null,
   "metadata": {},
   "outputs": [],
   "source": [
    "df.shape"
   ]
  },
  {
   "cell_type": "code",
   "execution_count": null,
   "metadata": {},
   "outputs": [],
   "source": [
    "df.to_csv(f'../OUTPUT/my_prediction.csv', columns=['id','price'], index_label=False,index=False)"
   ]
  },
  {
   "cell_type": "code",
   "execution_count": null,
   "metadata": {},
   "outputs": [],
   "source": [
    "break"
   ]
  },
  {
   "cell_type": "markdown",
   "metadata": {},
   "source": [
    "# Predict using all the `train data`"
   ]
  },
  {
   "cell_type": "markdown",
   "metadata": {},
   "source": [
    "### Calculate accracy scores for my GridSearchCV's top_model, and compare it with other trained models in my dict"
   ]
  },
  {
   "cell_type": "code",
   "execution_count": null,
   "metadata": {},
   "outputs": [],
   "source": [
    "\"\"\"\n",
    "TODO: scoring of cross validation score\n",
    "\"\"\""
   ]
  },
  {
   "cell_type": "code",
   "execution_count": null,
   "metadata": {
    "scrolled": false
   },
   "outputs": [],
   "source": [
    "scores = cross_val_score(reg, Xunprocessed, y, cv=10, verbose=2, scoring='neg_mean_squared_error')\n",
    "print(f\"   Xunprocessed   RMSE: {sqrt(np.mean(abs(scores)))}   MSE={np.mean(abs(scores))}    -- \")"
   ]
  },
  {
   "cell_type": "code",
   "execution_count": null,
   "metadata": {},
   "outputs": [],
   "source": [
    "# RMSE\n",
    "sqrt(abs(scores).mean())"
   ]
  },
  {
   "cell_type": "code",
   "execution_count": null,
   "metadata": {
    "scrolled": true
   },
   "outputs": [],
   "source": [
    "scores = cross_val_score(top_model, Xprocessed, y, cv=10,  verbose=2, scoring='neg_mean_squared_error')\n",
    "print(f\"   Xprocessed     RMSE: {sqrt(np.mean(scores))}   MSE={np.mean(scores)}   <-- \")"
   ]
  },
  {
   "cell_type": "code",
   "execution_count": null,
   "metadata": {},
   "outputs": [],
   "source": [
    "sqrt(abs(scores).mean())"
   ]
  },
  {
   "cell_type": "markdown",
   "metadata": {},
   "source": [
    "# How do I cross_val_score the correct data ? \n"
   ]
  },
  {
   "cell_type": "code",
   "execution_count": null,
   "metadata": {},
   "outputs": [],
   "source": [
    "for name, model in models.items():\n",
    "    print(f\"({name})\")\n",
    "    scores = cross_val_score(model, Xunprocessed, y, cv=10, scoring='neg_mean_squared_error')\n",
    "    print(f\"   X    acccuracy={np.mean(scores)}\")\n",
    "    #scores = cross_val_score(model, Xprocessed, y, cv=10, scoring='neg_mean_squared_error')\n",
    "    #print(f\"   Xpr  acccuracy={np.mean(scores)}\")"
   ]
  },
  {
   "cell_type": "markdown",
   "metadata": {},
   "source": [
    "# Prepare for our Final Prediction\n",
    "\n",
    "Guessing the sale price of the unlabeled diamonds, using our `top_model`, fitting it to all of `X`, and finally using its `predict_` method on the `X_competition`"
   ]
  },
  {
   "cell_type": "markdown",
   "metadata": {},
   "source": [
    "    # Choose the correct columns to fit the model\n",
    "    def select_features(dataframe):\n",
    "        data = dataframe.copy()\n",
    "        data.drop(columns='price', inplace=True)\n",
    "        my_features = data.columns\n",
    "        return my_features\n",
    "    my_features = select_features(data_input_states['numeric_train'])\n",
    "    my_features"
   ]
  }
 ],
 "metadata": {
  "kernelspec": {
   "display_name": "Python 3.6.9 64-bit",
   "language": "python",
   "name": "python36964bit17c6ebb0882a44ad96e177b7fffe16a0"
  },
  "language_info": {
   "codemirror_mode": {
    "name": "ipython",
    "version": 3
   },
   "file_extension": ".py",
   "mimetype": "text/x-python",
   "name": "python",
   "nbconvert_exporter": "python",
   "pygments_lexer": "ipython3",
   "version": "3.6.9"
  }
 },
 "nbformat": 4,
 "nbformat_minor": 4
}
