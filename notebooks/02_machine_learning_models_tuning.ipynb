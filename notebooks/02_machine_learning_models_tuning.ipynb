{
 "cells": [
  {
   "cell_type": "code",
   "execution_count": 1,
   "metadata": {},
   "outputs": [],
   "source": [
    "# My Modules\n",
    "import sys\n",
    "sys.path.append('../')\n",
    "from src.utils import *\n",
    "from src import datahandler, modeltrainer\n",
    "\n",
    "###### Data tools\n",
    "from math import sqrt\n",
    "import numpy as np\n",
    "import pandas as pd\n",
    "import seaborn as sns\n",
    "import matplotlib.pyplot as plt\n",
    "\n",
    "###### Preprocessing tools\n",
    "from sklearn.utils import all_estimators\n",
    "from sklearn.preprocessing import StandardScaler, Normalizer\n",
    "from sklearn.pipeline import make_pipeline\n",
    "from sklearn.model_selection import train_test_split\n",
    "\n",
    "##### Measuring models\n",
    "from sklearn.model_selection import GridSearchCV, RandomizedSearchCV\n",
    "from sklearn.model_selection import cross_val_score\n",
    "from sklearn.metrics import mean_squared_error\n",
    "\n",
    "#from sklearn.ensemble import *\n",
    "#from sklearn.tree import DecisionTreeClassifier\n",
    "#from sklearn.ensemble import RandomForestClassifier"
   ]
  },
  {
   "cell_type": "code",
   "execution_count": 2,
   "metadata": {},
   "outputs": [],
   "source": [
    "ENV = 'local'\n",
    "\n",
    "if ENV == 'local':\n",
    "    # Local Jupyter Setup\n",
    "    PATH='../'\n",
    "    \n",
    "    #makesound()"
   ]
  },
  {
   "cell_type": "code",
   "execution_count": 3,
   "metadata": {
    "scrolled": false
   },
   "outputs": [
    {
     "data": {
      "text/html": [
       "<div>\n",
       "<style scoped>\n",
       "    .dataframe tbody tr th:only-of-type {\n",
       "        vertical-align: middle;\n",
       "    }\n",
       "\n",
       "    .dataframe tbody tr th {\n",
       "        vertical-align: top;\n",
       "    }\n",
       "\n",
       "    .dataframe thead th {\n",
       "        text-align: right;\n",
       "    }\n",
       "</style>\n",
       "<table border=\"1\" class=\"dataframe\">\n",
       "  <thead>\n",
       "    <tr style=\"text-align: right;\">\n",
       "      <th></th>\n",
       "      <th>carat</th>\n",
       "      <th>cut</th>\n",
       "      <th>color</th>\n",
       "      <th>clarity</th>\n",
       "      <th>depth</th>\n",
       "      <th>table</th>\n",
       "      <th>price</th>\n",
       "      <th>depth_categories</th>\n",
       "    </tr>\n",
       "  </thead>\n",
       "  <tbody>\n",
       "    <tr>\n",
       "      <th>0</th>\n",
       "      <td>1.21</td>\n",
       "      <td>0</td>\n",
       "      <td>4</td>\n",
       "      <td>3.6</td>\n",
       "      <td>63.0</td>\n",
       "      <td>57.0</td>\n",
       "      <td>6134</td>\n",
       "      <td>0.2</td>\n",
       "    </tr>\n",
       "    <tr>\n",
       "      <th>1</th>\n",
       "      <td>0.28</td>\n",
       "      <td>2</td>\n",
       "      <td>0</td>\n",
       "      <td>2.5</td>\n",
       "      <td>64.0</td>\n",
       "      <td>56.0</td>\n",
       "      <td>532</td>\n",
       "      <td>0.2</td>\n",
       "    </tr>\n",
       "    <tr>\n",
       "      <th>2</th>\n",
       "      <td>0.42</td>\n",
       "      <td>1</td>\n",
       "      <td>2</td>\n",
       "      <td>3.1</td>\n",
       "      <td>61.2</td>\n",
       "      <td>58.0</td>\n",
       "      <td>1103</td>\n",
       "      <td>0.0</td>\n",
       "    </tr>\n",
       "    <tr>\n",
       "      <th>3</th>\n",
       "      <td>0.26</td>\n",
       "      <td>0</td>\n",
       "      <td>4</td>\n",
       "      <td>0.0</td>\n",
       "      <td>61.1</td>\n",
       "      <td>57.0</td>\n",
       "      <td>600</td>\n",
       "      <td>0.0</td>\n",
       "    </tr>\n",
       "    <tr>\n",
       "      <th>4</th>\n",
       "      <td>1.10</td>\n",
       "      <td>3</td>\n",
       "      <td>3</td>\n",
       "      <td>6.0</td>\n",
       "      <td>63.4</td>\n",
       "      <td>57.0</td>\n",
       "      <td>4997</td>\n",
       "      <td>0.2</td>\n",
       "    </tr>\n",
       "  </tbody>\n",
       "</table>\n",
       "</div>"
      ],
      "text/plain": [
       "   carat  cut  color  clarity  depth  table  price  depth_categories\n",
       "0   1.21    0      4      3.6   63.0   57.0   6134               0.2\n",
       "1   0.28    2      0      2.5   64.0   56.0    532               0.2\n",
       "2   0.42    1      2      3.1   61.2   58.0   1103               0.0\n",
       "3   0.26    0      4      0.0   61.1   57.0    600               0.0\n",
       "4   1.10    3      3      6.0   63.4   57.0   4997               0.2"
      ]
     },
     "execution_count": 3,
     "metadata": {},
     "output_type": "execute_result"
    }
   ],
   "source": [
    "data = pd.read_csv('../OUTPUT/numfeats_qd_noxyz.csv')\n",
    "data.head()"
   ]
  },
  {
   "cell_type": "markdown",
   "metadata": {},
   "source": [
    "# Preparing variables `X` and `y`"
   ]
  },
  {
   "cell_type": "code",
   "execution_count": 4,
   "metadata": {},
   "outputs": [],
   "source": [
    "Xunprocessed = data.drop(columns='price')\n",
    "y = data.price"
   ]
  },
  {
   "cell_type": "markdown",
   "metadata": {},
   "source": [
    "### Quick Visualization"
   ]
  },
  {
   "cell_type": "code",
   "execution_count": 5,
   "metadata": {
    "scrolled": true
   },
   "outputs": [],
   "source": [
    "visualize = False\n",
    "if visualize:\n",
    "    columns = Xunprocessed.columns   # Use this variable to specify the features to visaualize.\n",
    "    datahandler.visualize_data(Xunprocessed[columns],y)"
   ]
  },
  {
   "cell_type": "code",
   "execution_count": 6,
   "metadata": {
    "scrolled": true
   },
   "outputs": [
    {
     "data": {
      "image/png": "[encoded data removed]",
      "text/plain": [
       "<Figure size 576x576 with 2 Axes>"
      ]
     },
     "metadata": {
      "needs_background": "light"
     },
     "output_type": "display_data"
    }
   ],
   "source": [
    "datahandler.corr_matrix(Xunprocessed)"
   ]
  },
  {
   "cell_type": "code",
   "execution_count": 7,
   "metadata": {
    "scrolled": true
   },
   "outputs": [
    {
     "data": {
      "text/plain": [
       "<matplotlib.axes._subplots.AxesSubplot at 0x7f8a2d39ceb8>"
      ]
     },
     "execution_count": 7,
     "metadata": {},
     "output_type": "execute_result"
    },
    {
     "data": {
      "image/png": "[encoded data removed]",
      "text/plain": [
       "<Figure size 1440x216 with 1 Axes>"
      ]
     },
     "metadata": {
      "needs_background": "light"
     },
     "output_type": "display_data"
    }
   ],
   "source": [
    "plt.figure(figsize=(20,3))\n",
    "sns.distplot(y)"
   ]
  },
  {
   "cell_type": "markdown",
   "metadata": {},
   "source": [
    "# Pre-processing data pipeline"
   ]
  },
  {
   "cell_type": "markdown",
   "metadata": {},
   "source": [
    "Links to more documentation: \n",
    " - [`sklearn.pipeline`](https://scikit-learn.org/stable/modules/classes.html#module-sklearn.pipeline)\n",
    " - `Estimator class`\n",
    "     - `myestimator.get_params`"
   ]
  },
  {
   "cell_type": "code",
   "execution_count": 8,
   "metadata": {},
   "outputs": [],
   "source": [
    "# Feeling lucky?\n",
    "Lucky = False\n",
    "\n",
    "# We could check all possible estimators in the sklearn library to transform our data:\n",
    "if Lucky: display(all_estimators(type_filter='regressor'))"
   ]
  },
  {
   "cell_type": "code",
   "execution_count": 9,
   "metadata": {},
   "outputs": [],
   "source": [
    "pipelineA = [    StandardScaler()]\n",
    "pipelineB = [    StandardScaler(),    Normalizer(),]\n",
    "\n",
    "tr = make_pipeline(*pipelineA)\n",
    "\n",
    "# We'll use this transformation pipeline for our training, testing, and final predictions\n",
    "Xprocessed = tr.fit_transform(Xunprocessed)"
   ]
  },
  {
   "cell_type": "code",
   "execution_count": 10,
   "metadata": {},
   "outputs": [
    {
     "data": {
      "text/html": [
       "<div>\n",
       "<style scoped>\n",
       "    .dataframe tbody tr th:only-of-type {\n",
       "        vertical-align: middle;\n",
       "    }\n",
       "\n",
       "    .dataframe tbody tr th {\n",
       "        vertical-align: top;\n",
       "    }\n",
       "\n",
       "    .dataframe thead th {\n",
       "        text-align: right;\n",
       "    }\n",
       "</style>\n",
       "<table border=\"1\" class=\"dataframe\">\n",
       "  <thead>\n",
       "    <tr style=\"text-align: right;\">\n",
       "      <th></th>\n",
       "      <th>0</th>\n",
       "      <th>1</th>\n",
       "      <th>2</th>\n",
       "      <th>3</th>\n",
       "      <th>4</th>\n",
       "      <th>5</th>\n",
       "      <th>6</th>\n",
       "    </tr>\n",
       "  </thead>\n",
       "  <tbody>\n",
       "    <tr>\n",
       "      <th>0</th>\n",
       "      <td>0.880093</td>\n",
       "      <td>-0.982962</td>\n",
       "      <td>0.833658</td>\n",
       "      <td>-0.395673</td>\n",
       "      <td>0.877395</td>\n",
       "      <td>-0.205924</td>\n",
       "      <td>0.930385</td>\n",
       "    </tr>\n",
       "    <tr>\n",
       "      <th>1</th>\n",
       "      <td>-1.095267</td>\n",
       "      <td>0.809998</td>\n",
       "      <td>-1.525915</td>\n",
       "      <td>-0.977066</td>\n",
       "      <td>1.579543</td>\n",
       "      <td>-0.653290</td>\n",
       "      <td>0.930385</td>\n",
       "    </tr>\n",
       "  </tbody>\n",
       "</table>\n",
       "</div>"
      ],
      "text/plain": [
       "          0         1         2         3         4         5         6\n",
       "0  0.880093 -0.982962  0.833658 -0.395673  0.877395 -0.205924  0.930385\n",
       "1 -1.095267  0.809998 -1.525915 -0.977066  1.579543 -0.653290  0.930385"
      ]
     },
     "execution_count": 10,
     "metadata": {},
     "output_type": "execute_result"
    }
   ],
   "source": [
    "pd.DataFrame(Xprocessed).head(2)"
   ]
  },
  {
   "cell_type": "markdown",
   "metadata": {},
   "source": [
    "# Define my models and make a first `cross_val_score` if needed.\n",
    "\n",
    "Here, consider loading a trained model, using pickle and [this guide](https://scikit-learn.org/stable/modules/model_persistence.html):"
   ]
  },
  {
   "cell_type": "code",
   "execution_count": 11,
   "metadata": {
    "scrolled": true
   },
   "outputs": [
    {
     "data": {
      "text/plain": [
       "dict_keys(['RandomForestRegressor'])"
      ]
     },
     "execution_count": 11,
     "metadata": {},
     "output_type": "execute_result"
    }
   ],
   "source": [
    "#I have defined them in this module\n",
    "models = modeltrainer.models\n",
    "models.keys()"
   ]
  },
  {
   "cell_type": "markdown",
   "metadata": {},
   "source": [
    "Flip this logic switch to test all the available models in the `modeltrainer` module\n",
    "\n",
    " **This check will use both the PROCESSED AND UNPROCESSED X**"
   ]
  },
  {
   "cell_type": "code",
   "execution_count": 12,
   "metadata": {
    "scrolled": false
   },
   "outputs": [],
   "source": [
    "recheck_models = False\n",
    "\n",
    "if recheck_models:\n",
    "    # Configure the cross_val_score parameters here\n",
    "    verbose = 2\n",
    "    cv = 10\n",
    "    for name, model in models.items():\n",
    "        try:\n",
    "            print(f\"{'-'*100}\\nModel: ({name})\")\n",
    "            scores = cross_val_score(model, Xunprocessed, y,\n",
    "                                     cv=cv,   verbose=verbose,\n",
    "                                     scoring='neg_mean_squared_error')\n",
    "            MSE = abs(np.mean(scores))\n",
    "            print(f\"Model: ({name})> Xunprocessed |   MSE={MSE} \\t RMSE={sqrt(MSE)}\")\n",
    "            scores = cross_val_score(model, Xprocessed, y,\n",
    "                                     cv=cv, verbose=verbose,\n",
    "                                     scoring='neg_mean_squared_error',\n",
    "                                     )\n",
    "            MSE = abs(np.mean(scores))\n",
    "            print(f\"Model: ({name})> Xprocessed   |   MSE={MSE} \\t RMSE={sqrt(MSE)}\")\n",
    "        except Exception as e:\n",
    "            print(f\"{'+'*100}\\n     {e}\")\n",
    "        \n",
    "    makesound('coin')"
   ]
  },
  {
   "cell_type": "code",
   "execution_count": 13,
   "metadata": {
    "scrolled": true
   },
   "outputs": [
    {
     "data": {
      "text/html": [
       "\n",
       "                <audio  controls=\"controls\" autoplay=\"autoplay\">\n",
       "                    <source src=\"https://sound.peal.io/ps/audios/000/007/926/original/334298__sojan__coinflic4.mp3\" type=\"audio/mpeg\" />\n",
       "                    Your browser does not support the audio element.\n",
       "                </audio>\n",
       "              "
      ],
      "text/plain": [
       "<IPython.lib.display.Audio object>"
      ]
     },
     "metadata": {},
     "output_type": "display_data"
    }
   ],
   "source": [
    "makesound('coin')"
   ]
  },
  {
   "cell_type": "markdown",
   "metadata": {},
   "source": [
    "# 🔢️  Grid-Search Cross-Validation ♨️\n",
    "\n",
    "Select a model, and set up a parametrs_grid. Iterate over all the possible mixes of parameters, and save the fitted model \n",
    "\n",
    "#### Also consider using `RandomizedSearchCV`"
   ]
  },
  {
   "cell_type": "code",
   "execution_count": 14,
   "metadata": {
    "scrolled": false
   },
   "outputs": [],
   "source": [
    "# Select my model\n",
    "my_model = models['RandomForestRegressor']"
   ]
  },
  {
   "cell_type": "code",
   "execution_count": 15,
   "metadata": {},
   "outputs": [],
   "source": [
    "parameters_grid = {\n",
    "    \n",
    "                   'n_estimators':[100, 500,1000],\n",
    "                 # 'learning_rate':[0.1],\n",
    "                 # 'max_bins':[255],\n",
    "                 # 'max_iter':[86,87,88],\n",
    "                 # 'max_leaf_nodes':[20],\n",
    "                 # 'scoring':['neg_root_mean_squared_error'],\n",
    "                  'random_state':[1]\n",
    "    \n",
    "                  }"
   ]
  },
  {
   "cell_type": "markdown",
   "metadata": {},
   "source": [
    "## Train, test, split\n",
    "\n",
    "Starting from `Xprocessed`, create 2 groups of X and y "
   ]
  },
  {
   "cell_type": "code",
   "execution_count": 16,
   "metadata": {},
   "outputs": [
    {
     "name": "stdout",
     "output_type": "stream",
     "text": [
      "(32276, 7) (8069, 7) (32276,) (8069,)\n"
     ]
    }
   ],
   "source": [
    "X_train, X_test, y_train, y_test = train_test_split(Xprocessed, y, test_size=0.2)\n",
    "print(X_train.shape, X_test.shape, y_train.shape, y_test.shape)"
   ]
  },
  {
   "cell_type": "markdown",
   "metadata": {},
   "source": [
    "# Fit my model with GridSearchCV (By using X_train and y_train, we are leveraging on the Xprocessed data we have defined above)"
   ]
  },
  {
   "cell_type": "code",
   "execution_count": 17,
   "metadata": {
    "scrolled": false
   },
   "outputs": [
    {
     "name": "stdout",
     "output_type": "stream",
     "text": [
      "Fitting 5 folds for each of 3 candidates, totalling 15 fits\n",
      "[CV] n_estimators=100, random_state=1 ................................\n"
     ]
    },
    {
     "name": "stderr",
     "output_type": "stream",
     "text": [
      "[Parallel(n_jobs=1)]: Using backend SequentialBackend with 1 concurrent workers.\n"
     ]
    },
    {
     "name": "stdout",
     "output_type": "stream",
     "text": [
      "[CV] ................. n_estimators=100, random_state=1, total=   8.4s\n",
      "[CV] n_estimators=100, random_state=1 ................................\n"
     ]
    },
    {
     "name": "stderr",
     "output_type": "stream",
     "text": [
      "[Parallel(n_jobs=1)]: Done   1 out of   1 | elapsed:    8.4s remaining:    0.0s\n"
     ]
    },
    {
     "name": "stdout",
     "output_type": "stream",
     "text": [
      "[CV] ................. n_estimators=100, random_state=1, total=   9.3s\n",
      "[CV] n_estimators=100, random_state=1 ................................\n",
      "[CV] ................. n_estimators=100, random_state=1, total=   8.3s\n",
      "[CV] n_estimators=100, random_state=1 ................................\n",
      "[CV] ................. n_estimators=100, random_state=1, total=   8.4s\n",
      "[CV] n_estimators=100, random_state=1 ................................\n",
      "[CV] ................. n_estimators=100, random_state=1, total=   7.6s\n",
      "[CV] n_estimators=500, random_state=1 ................................\n",
      "[CV] ................. n_estimators=500, random_state=1, total=  37.9s\n",
      "[CV] n_estimators=500, random_state=1 ................................\n",
      "[CV] ................. n_estimators=500, random_state=1, total=  38.1s\n",
      "[CV] n_estimators=500, random_state=1 ................................\n",
      "[CV] ................. n_estimators=500, random_state=1, total=  42.6s\n",
      "[CV] n_estimators=500, random_state=1 ................................\n",
      "[CV] ................. n_estimators=500, random_state=1, total=  40.6s\n",
      "[CV] n_estimators=500, random_state=1 ................................\n",
      "[CV] ................. n_estimators=500, random_state=1, total=  48.5s\n",
      "[CV] n_estimators=1000, random_state=1 ...............................\n",
      "[CV] ................ n_estimators=1000, random_state=1, total= 1.3min\n",
      "[CV] n_estimators=1000, random_state=1 ...............................\n",
      "[CV] ................ n_estimators=1000, random_state=1, total= 1.3min\n",
      "[CV] n_estimators=1000, random_state=1 ...............................\n",
      "[CV] ................ n_estimators=1000, random_state=1, total= 1.3min\n",
      "[CV] n_estimators=1000, random_state=1 ...............................\n",
      "[CV] ................ n_estimators=1000, random_state=1, total= 1.3min\n",
      "[CV] n_estimators=1000, random_state=1 ...............................\n",
      "[CV] ................ n_estimators=1000, random_state=1, total= 1.3min\n"
     ]
    },
    {
     "name": "stderr",
     "output_type": "stream",
     "text": [
      "[Parallel(n_jobs=1)]: Done  15 out of  15 | elapsed: 10.8min finished\n"
     ]
    },
    {
     "data": {
      "text/html": [
       "\n",
       "                <audio  controls=\"controls\" autoplay=\"autoplay\">\n",
       "                    <source src=\"https://sound.peal.io/ps/audios/000/007/926/original/334298__sojan__coinflic4.mp3\" type=\"audio/mpeg\" />\n",
       "                    Your browser does not support the audio element.\n",
       "                </audio>\n",
       "              "
      ],
      "text/plain": [
       "<IPython.lib.display.Audio object>"
      ]
     },
     "metadata": {},
     "output_type": "display_data"
    }
   ],
   "source": [
    "reg = GridSearchCV(my_model, parameters_grid, verbose=2,\n",
    "                   n_jobs=1,     # How many CPU cores to use\n",
    "                   cv=5,\n",
    "                   scoring='neg_mean_squared_error'\n",
    "                  ).fit(X_train, y_train)\n",
    "\n",
    "makesound('coin')"
   ]
  },
  {
   "cell_type": "markdown",
   "metadata": {},
   "source": [
    "    The following is our best estimator model, according to the crossvalidation process we just ran!"
   ]
  },
  {
   "cell_type": "code",
   "execution_count": 18,
   "metadata": {
    "scrolled": false
   },
   "outputs": [
    {
     "data": {
      "text/plain": [
       "RandomForestRegressor(bootstrap=True, ccp_alpha=0.0, criterion='mse',\n",
       "                      max_depth=None, max_features='auto', max_leaf_nodes=None,\n",
       "                      max_samples=None, min_impurity_decrease=0.0,\n",
       "                      min_impurity_split=None, min_samples_leaf=1,\n",
       "                      min_samples_split=2, min_weight_fraction_leaf=0.0,\n",
       "                      n_estimators=1000, n_jobs=None, oob_score=False,\n",
       "                      random_state=1, verbose=0, warm_start=False)"
      ]
     },
     "execution_count": 18,
     "metadata": {},
     "output_type": "execute_result"
    }
   ],
   "source": [
    "reg.best_estimator_"
   ]
  },
  {
   "cell_type": "code",
   "execution_count": 19,
   "metadata": {},
   "outputs": [
    {
     "data": {
      "text/plain": [
       "{'n_estimators': 1000, 'random_state': 1}"
      ]
     },
     "execution_count": 19,
     "metadata": {},
     "output_type": "execute_result"
    }
   ],
   "source": [
    "reg.best_params_"
   ]
  },
  {
   "cell_type": "markdown",
   "metadata": {},
   "source": [
    "# Compare the GROUND TRUTH with our predicted `ŷ_test`"
   ]
  },
  {
   "cell_type": "markdown",
   "metadata": {},
   "source": [
    "#### I can use my fitted model to predict the `label` (`ŷ`) on any given set of `X` values\n",
    " In this case, I want to predict the section of my `train_data` which my model has never seen (the `X_test`)"
   ]
  },
  {
   "cell_type": "code",
   "execution_count": 20,
   "metadata": {
    "scrolled": false
   },
   "outputs": [
    {
     "data": {
      "text/plain": [
       "(8069,)"
      ]
     },
     "execution_count": 20,
     "metadata": {},
     "output_type": "execute_result"
    }
   ],
   "source": [
    "my_pred = reg.predict(X_test)\n",
    "my_pred.shape"
   ]
  },
  {
   "cell_type": "markdown",
   "metadata": {},
   "source": [
    "## Measure RMSE"
   ]
  },
  {
   "cell_type": "code",
   "execution_count": 21,
   "metadata": {
    "scrolled": false
   },
   "outputs": [
    {
     "name": "stdout",
     "output_type": "stream",
     "text": [
      "Current score: 553.915307143563    \n",
      "  Highest score: 530\n"
     ]
    },
    {
     "data": {
      "text/html": [
       "\n",
       "                <audio  controls=\"controls\" autoplay=\"autoplay\">\n",
       "                    <source src=\"https://sound.peal.io/ps/audios/000/005/602/original/youtube.mp3\" type=\"audio/mpeg\" />\n",
       "                    Your browser does not support the audio element.\n",
       "                </audio>\n",
       "              "
      ],
      "text/plain": [
       "<IPython.lib.display.Audio object>"
      ]
     },
     "metadata": {},
     "output_type": "display_data"
    },
    {
     "ename": "Exception",
     "evalue": "The model has a low score, go back and try to get a lower RMSE.",
     "output_type": "error",
     "traceback": [
      "\u001b[0;31m---------------------------------------------------------------------------\u001b[0m",
      "\u001b[0;31mException\u001b[0m                                 Traceback (most recent call last)",
      "\u001b[0;32m<ipython-input-21-0b9f2fd7838c>\u001b[0m in \u001b[0;36m<module>\u001b[0;34m\u001b[0m\n\u001b[1;32m      6\u001b[0m \u001b[0;32melse\u001b[0m\u001b[0;34m:\u001b[0m\u001b[0;34m\u001b[0m\u001b[0;34m\u001b[0m\u001b[0m\n\u001b[1;32m      7\u001b[0m     \u001b[0mmakesound\u001b[0m\u001b[0;34m(\u001b[0m\u001b[0;34m'error'\u001b[0m\u001b[0;34m)\u001b[0m\u001b[0;34m\u001b[0m\u001b[0;34m\u001b[0m\u001b[0m\n\u001b[0;32m----> 8\u001b[0;31m     \u001b[0;32mraise\u001b[0m \u001b[0mException\u001b[0m\u001b[0;34m(\u001b[0m\u001b[0;34m'The model has a low score, go back and try to get a lower RMSE.'\u001b[0m\u001b[0;34m)\u001b[0m\u001b[0;34m\u001b[0m\u001b[0;34m\u001b[0m\u001b[0m\n\u001b[0m",
      "\u001b[0;31mException\u001b[0m: The model has a low score, go back and try to get a lower RMSE."
     ]
    }
   ],
   "source": [
    "RMSE = sqrt(mean_squared_error(y_test,  my_pred))\n",
    "print(f'Current score: {RMSE}    \\n  Highest score: {modeltrainer.highest_score}')\n",
    "\n",
    "if RMSE < modeltrainer.highest_score:\n",
    "    new_high_score()\n",
    "else:\n",
    "    makesound('error')\n",
    "    raise Exception('The model has a low score, go back and try to get a lower RMSE.')"
   ]
  },
  {
   "cell_type": "markdown",
   "metadata": {},
   "source": [
    "    \"\"\"\n",
    "    Just some notes:\n",
    "    model:VotingRegressor estimator with RandomForestRegressor and HistGradientBoostingRegressor we get a RMSE of: \n",
    "\n",
    "        data: numfeats_qd\n",
    "            - pipelineA:   589\n",
    "            - pipelineB:   561\n",
    "\n",
    "        data: numfeats_qd_noxyz\n",
    "            - pipelineA:   518\n",
    "            - pipelineB:   565\n",
    "    \"\"\""
   ]
  },
  {
   "cell_type": "code",
   "execution_count": null,
   "metadata": {
    "scrolled": false
   },
   "outputs": [],
   "source": [
    "reg_refit = reg.fit(Xprocessed, y)"
   ]
  },
  {
   "cell_type": "code",
   "execution_count": null,
   "metadata": {
    "scrolled": true
   },
   "outputs": [],
   "source": [
    "reg_refit.best_estimator_"
   ]
  },
  {
   "cell_type": "markdown",
   "metadata": {},
   "source": [
    "# We're ready for KAGGLE: \n",
    "#### Let's train again the model, but using all the X data, before sending a prediction to kaggle\n",
    "\n",
    "- Beware, of what `X` features you will use to train this time; is it `Xprocessed` or `Xunprocessed` ?"
   ]
  },
  {
   "cell_type": "code",
   "execution_count": null,
   "metadata": {
    "scrolled": true
   },
   "outputs": [],
   "source": [
    "# Fitting\n",
    "reg = GridSearchCV(my_model, parameters_grid, verbose=2,\n",
    "                   scoring='neg_mean_squared_error'\n",
    "                  ).fit(Xprocessed, y)\n",
    "makesound('coin')"
   ]
  },
  {
   "cell_type": "code",
   "execution_count": null,
   "metadata": {},
   "outputs": [],
   "source": [
    "# Test the model with the train data, RMSE should be very low\n",
    "just_checking = reg.predict(X_test)\n",
    "RMSE = sqrt(mean_squared_error(y_test,  just_checking))\n",
    "print(f'Current score: {RMSE}    \\n  Highest score: {modeltrainer.highest_score}')"
   ]
  },
  {
   "cell_type": "markdown",
   "metadata": {},
   "source": [
    "# Take this new regression model, and use it to predict the values of `y` in the kaggle dataset"
   ]
  },
  {
   "cell_type": "code",
   "execution_count": null,
   "metadata": {
    "scrolled": true
   },
   "outputs": [],
   "source": [
    "X_competition = pd.read_csv(f'../INPUT/diamonds_test.csv')#.drop(columns='Unnamed: 0')\n",
    "X_competition.head(3)"
   ]
  },
  {
   "cell_type": "markdown",
   "metadata": {},
   "source": [
    "### Reuse my data processing pipeline to make this `test data` look like the data I fitted my model with\n"
   ]
  },
  {
   "cell_type": "code",
   "execution_count": null,
   "metadata": {
    "scrolled": true
   },
   "outputs": [],
   "source": [
    "X_competition_processed = datahandler.use_my_numeric_scales(X_competition)\n",
    "X_competition_processed['depth_categories'] = X_competition_processed.depth\n",
    "X_competition_processed['depth_categories'] = X_competition_processed.depth_categories.apply(datahandler.depth_qualifyer)\n",
    "\n",
    "if True: raise Exception('Be careful, what type of columsn are you going to drop ?')\n",
    "\n",
    "to_drop = [\"Unnamed: 0\", 'x', 'y', 'z']\n",
    "X_competition_processed.drop(columns=to_drop, inplace=True)\n",
    "X_competition_processed.head(3)"
   ]
  },
  {
   "cell_type": "code",
   "execution_count": null,
   "metadata": {},
   "outputs": [],
   "source": [
    "Xprocessed = tr.fit_transform(X_competition_processed)\n",
    "Xprocessed"
   ]
  },
  {
   "cell_type": "code",
   "execution_count": null,
   "metadata": {},
   "outputs": [],
   "source": [
    "reg.best_estimator_"
   ]
  },
  {
   "cell_type": "code",
   "execution_count": null,
   "metadata": {
    "scrolled": true
   },
   "outputs": [],
   "source": [
    "my_prediction = reg.predict(X_competition_processed)"
   ]
  },
  {
   "cell_type": "code",
   "execution_count": null,
   "metadata": {},
   "outputs": [],
   "source": [
    "df = pd.DataFrame(my_prediction)\n",
    "df = df.reset_index()\n",
    "df.columns = ['id', 'price']\n",
    "df.head()"
   ]
  },
  {
   "cell_type": "code",
   "execution_count": null,
   "metadata": {},
   "outputs": [],
   "source": [
    "df.shape"
   ]
  },
  {
   "cell_type": "code",
   "execution_count": null,
   "metadata": {},
   "outputs": [],
   "source": [
    "df.to_csv(f'../OUTPUT/my_prediction.csv', columns=['id','price'], index_label=False,index=False)"
   ]
  },
  {
   "cell_type": "code",
   "execution_count": null,
   "metadata": {},
   "outputs": [],
   "source": []
  }
 ],
 "metadata": {
  "kernelspec": {
   "display_name": "Python 3.6.9 64-bit",
   "language": "python",
   "name": "python36964bit17c6ebb0882a44ad96e177b7fffe16a0"
  },
  "language_info": {
   "codemirror_mode": {
    "name": "ipython",
    "version": 3
   },
   "file_extension": ".py",
   "mimetype": "text/x-python",
   "name": "python",
   "nbconvert_exporter": "python",
   "pygments_lexer": "ipython3",
   "version": "3.6.9"
  }
 },
 "nbformat": 4,
 "nbformat_minor": 4
}
